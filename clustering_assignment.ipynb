{
  "nbformat": 4,
  "nbformat_minor": 0,
  "metadata": {
    "colab": {
      "provenance": [],
      "authorship_tag": "ABX9TyPRsv21UTBYCa6RMkRSSBQ7",
      "include_colab_link": true
    },
    "kernelspec": {
      "name": "python3",
      "display_name": "Python 3"
    },
    "language_info": {
      "name": "python"
    }
  },
  "cells": [
    {
      "cell_type": "markdown",
      "metadata": {
        "id": "view-in-github",
        "colab_type": "text"
      },
      "source": [
        "<a href=\"https://colab.research.google.com/github/Saikumar1422/excelr-data-science-assignments/blob/main/clustering_assignment.ipynb\" target=\"_parent\"><img src=\"https://colab.research.google.com/assets/colab-badge.svg\" alt=\"Open In Colab\"/></a>"
      ]
    },
    {
      "cell_type": "code",
      "execution_count": null,
      "metadata": {
        "colab": {
          "base_uri": "https://localhost:8080/"
        },
        "id": "9MXA72fvsQsd",
        "outputId": "db2d6142-6dbc-4903-d376-8f55e89b5457"
      },
      "outputs": [
        {
          "output_type": "stream",
          "name": "stdout",
          "text": [
            "Mounted at /content/drive/\n"
          ]
        }
      ],
      "source": [
        "from google.colab import drive\n",
        "drive.mount('/content/drive/')"
      ]
    },
    {
      "cell_type": "markdown",
      "source": [
        "# Problem Statement"
      ],
      "metadata": {
        "id": "QsnUuaEls3BD"
      }
    },
    {
      "cell_type": "markdown",
      "source": [
        "Perform Clustering(Hierarchical, Kmeans) for the crime data and identify the number of clusters formed and draw inferences.\n",
        "\n",
        "Data Description:\n",
        "Murder -- Muder rates in different places of United States\n",
        "Assualt- Assualt rate in different places of United States\n",
        "UrbanPop - urban population in different places of United States\n",
        "Rape - Rape rate in different places of United States\n"
      ],
      "metadata": {
        "id": "Mrc624FEuX7s"
      }
    },
    {
      "cell_type": "markdown",
      "source": [
        "performing different type of clkusters on the airlines dataset to obtain optimum number of clusters"
      ],
      "metadata": {
        "id": "n3FZls-ws_zE"
      }
    },
    {
      "cell_type": "markdown",
      "source": [
        "# **DATASET INFORMATION**"
      ],
      "metadata": {
        "id": "434yzW8L7uaO"
      }
    },
    {
      "cell_type": "markdown",
      "source": [
        "# Perform clustering (hierarchical,K means clustering and DBSCAN) for the airlines data to obtain optimum number of clusters.\n",
        "# Draw the inferences from the clusters obtained.\n",
        "\n",
        "# Data Description:\n",
        "\n",
        "# The file EastWestAirlinescontains information on passengers who belong to an airline’s frequent flier program. For each passenger the data include information on their mileage history and on different ways they accrued or spent miles in the last year. The goal is to try to identify clusters of passengers that have similar characteristics for the purpose of targeting different segments for different types of mileage offers\n",
        "\n",
        "#**COLUMNS:**\n",
        "\n",
        "# ID --Unique ID\n",
        "\n",
        "# Balance--Number of miles eligible for award travel\n",
        "\n",
        "# Qual_mile--Number of miles counted as qualifying for Topflight status\n",
        "\n",
        "# cc1_miles -- Number of miles earned with freq. flyer credit card in the past 12 months:\n",
        "# cc2_miles -- Number of miles earned with Rewards credit card in the past 12 months:\n",
        "# cc3_miles -- Number of miles earned with Small Business credit card in the past 12 months:\n",
        "\n",
        "# 1 = under 5,000\n",
        "# 2 = 5,000 - 10,000\n",
        "# 3 = 10,001 - 25,000\n",
        "# 4 = 25,001 - 50,000\n",
        "# 5 = over 50,000\n",
        "\n",
        "# Bonus_miles--Number of miles earned from non-flight bonus transactions in the past 12 months\n",
        "\n",
        "# Bonus_trans--Number of non-flight bonus transactions in the past 12 months\n",
        "\n",
        "# Flight_miles_12mo--Number of flight miles in the past 12 months\n",
        "\n",
        "# Flight_trans_12--Number of flight transactions in the past 12 months\n",
        "\n",
        "# Days_since_enrolled--Number of days since enrolled in flier program\n",
        "\n",
        "# Award--whether that person had award flight (free flight) or not\n"
      ],
      "metadata": {
        "id": "CSW8Wtrk7IlV"
      }
    },
    {
      "cell_type": "markdown",
      "source": [
        "# **importing libraries**"
      ],
      "metadata": {
        "id": "eyFh4BUEu-Ef"
      }
    },
    {
      "cell_type": "code",
      "source": [
        "import numpy as np\n",
        "import pandas as pd\n",
        "from matplotlib import pyplot as plt\n",
        "from sklearn.cluster import KMeans\n",
        "from sklearn.preprocessing import StandardScaler\n",
        "from sklearn import preprocessing\n",
        "import seaborn as sns\n",
        "import scipy.cluster.hierarchy as sch\n",
        "from sklearn.cluster import AgglomerativeClustering\n"
      ],
      "metadata": {
        "id": "SgmL0BfXvFAR"
      },
      "execution_count": null,
      "outputs": []
    },
    {
      "cell_type": "markdown",
      "source": [
        "## **DATA COLLECTION**"
      ],
      "metadata": {
        "id": "-M2dFVEDtNaf"
      }
    },
    {
      "cell_type": "code",
      "source": [
        "df=pd.read_csv(\"/content/drive/MyDrive/EastWestAirlines.csv\")"
      ],
      "metadata": {
        "id": "iHH0M-WUshc_"
      },
      "execution_count": null,
      "outputs": []
    },
    {
      "cell_type": "code",
      "source": [
        "df"
      ],
      "metadata": {
        "id": "s2HZRXiEv2OA",
        "colab": {
          "base_uri": "https://localhost:8080/",
          "height": 423
        },
        "outputId": "26d0ca25-e62b-4806-acd3-533b3267ca67"
      },
      "execution_count": null,
      "outputs": [
        {
          "output_type": "execute_result",
          "data": {
            "text/plain": [
              "       ID#  Balance  Qual_miles  cc1_miles  cc2_miles  cc3_miles  Bonus_miles  \\\n",
              "0        1    28143           0          1          1          1          174   \n",
              "1        2    19244           0          1          1          1          215   \n",
              "2        3    41354           0          1          1          1         4123   \n",
              "3        4    14776           0          1          1          1          500   \n",
              "4        5    97752           0          4          1          1        43300   \n",
              "...    ...      ...         ...        ...        ...        ...          ...   \n",
              "3994  4017    18476           0          1          1          1         8525   \n",
              "3995  4018    64385           0          1          1          1          981   \n",
              "3996  4019    73597           0          3          1          1        25447   \n",
              "3997  4020    54899           0          1          1          1          500   \n",
              "3998  4021     3016           0          1          1          1            0   \n",
              "\n",
              "      Bonus_trans  Flight_miles_12mo  Flight_trans_12  Days_since_enroll  \\\n",
              "0               1                  0                0               7000   \n",
              "1               2                  0                0               6968   \n",
              "2               4                  0                0               7034   \n",
              "3               1                  0                0               6952   \n",
              "4              26               2077                4               6935   \n",
              "...           ...                ...              ...                ...   \n",
              "3994            4                200                1               1403   \n",
              "3995            5                  0                0               1395   \n",
              "3996            8                  0                0               1402   \n",
              "3997            1                500                1               1401   \n",
              "3998            0                  0                0               1398   \n",
              "\n",
              "      Award?  \n",
              "0          0  \n",
              "1          0  \n",
              "2          0  \n",
              "3          0  \n",
              "4          1  \n",
              "...      ...  \n",
              "3994       1  \n",
              "3995       1  \n",
              "3996       1  \n",
              "3997       0  \n",
              "3998       0  \n",
              "\n",
              "[3999 rows x 12 columns]"
            ],
            "text/html": [
              "\n",
              "\n",
              "  <div id=\"df-39bda44d-02cc-4996-b328-caf0384d0b53\">\n",
              "    <div class=\"colab-df-container\">\n",
              "      <div>\n",
              "<style scoped>\n",
              "    .dataframe tbody tr th:only-of-type {\n",
              "        vertical-align: middle;\n",
              "    }\n",
              "\n",
              "    .dataframe tbody tr th {\n",
              "        vertical-align: top;\n",
              "    }\n",
              "\n",
              "    .dataframe thead th {\n",
              "        text-align: right;\n",
              "    }\n",
              "</style>\n",
              "<table border=\"1\" class=\"dataframe\">\n",
              "  <thead>\n",
              "    <tr style=\"text-align: right;\">\n",
              "      <th></th>\n",
              "      <th>ID#</th>\n",
              "      <th>Balance</th>\n",
              "      <th>Qual_miles</th>\n",
              "      <th>cc1_miles</th>\n",
              "      <th>cc2_miles</th>\n",
              "      <th>cc3_miles</th>\n",
              "      <th>Bonus_miles</th>\n",
              "      <th>Bonus_trans</th>\n",
              "      <th>Flight_miles_12mo</th>\n",
              "      <th>Flight_trans_12</th>\n",
              "      <th>Days_since_enroll</th>\n",
              "      <th>Award?</th>\n",
              "    </tr>\n",
              "  </thead>\n",
              "  <tbody>\n",
              "    <tr>\n",
              "      <th>0</th>\n",
              "      <td>1</td>\n",
              "      <td>28143</td>\n",
              "      <td>0</td>\n",
              "      <td>1</td>\n",
              "      <td>1</td>\n",
              "      <td>1</td>\n",
              "      <td>174</td>\n",
              "      <td>1</td>\n",
              "      <td>0</td>\n",
              "      <td>0</td>\n",
              "      <td>7000</td>\n",
              "      <td>0</td>\n",
              "    </tr>\n",
              "    <tr>\n",
              "      <th>1</th>\n",
              "      <td>2</td>\n",
              "      <td>19244</td>\n",
              "      <td>0</td>\n",
              "      <td>1</td>\n",
              "      <td>1</td>\n",
              "      <td>1</td>\n",
              "      <td>215</td>\n",
              "      <td>2</td>\n",
              "      <td>0</td>\n",
              "      <td>0</td>\n",
              "      <td>6968</td>\n",
              "      <td>0</td>\n",
              "    </tr>\n",
              "    <tr>\n",
              "      <th>2</th>\n",
              "      <td>3</td>\n",
              "      <td>41354</td>\n",
              "      <td>0</td>\n",
              "      <td>1</td>\n",
              "      <td>1</td>\n",
              "      <td>1</td>\n",
              "      <td>4123</td>\n",
              "      <td>4</td>\n",
              "      <td>0</td>\n",
              "      <td>0</td>\n",
              "      <td>7034</td>\n",
              "      <td>0</td>\n",
              "    </tr>\n",
              "    <tr>\n",
              "      <th>3</th>\n",
              "      <td>4</td>\n",
              "      <td>14776</td>\n",
              "      <td>0</td>\n",
              "      <td>1</td>\n",
              "      <td>1</td>\n",
              "      <td>1</td>\n",
              "      <td>500</td>\n",
              "      <td>1</td>\n",
              "      <td>0</td>\n",
              "      <td>0</td>\n",
              "      <td>6952</td>\n",
              "      <td>0</td>\n",
              "    </tr>\n",
              "    <tr>\n",
              "      <th>4</th>\n",
              "      <td>5</td>\n",
              "      <td>97752</td>\n",
              "      <td>0</td>\n",
              "      <td>4</td>\n",
              "      <td>1</td>\n",
              "      <td>1</td>\n",
              "      <td>43300</td>\n",
              "      <td>26</td>\n",
              "      <td>2077</td>\n",
              "      <td>4</td>\n",
              "      <td>6935</td>\n",
              "      <td>1</td>\n",
              "    </tr>\n",
              "    <tr>\n",
              "      <th>...</th>\n",
              "      <td>...</td>\n",
              "      <td>...</td>\n",
              "      <td>...</td>\n",
              "      <td>...</td>\n",
              "      <td>...</td>\n",
              "      <td>...</td>\n",
              "      <td>...</td>\n",
              "      <td>...</td>\n",
              "      <td>...</td>\n",
              "      <td>...</td>\n",
              "      <td>...</td>\n",
              "      <td>...</td>\n",
              "    </tr>\n",
              "    <tr>\n",
              "      <th>3994</th>\n",
              "      <td>4017</td>\n",
              "      <td>18476</td>\n",
              "      <td>0</td>\n",
              "      <td>1</td>\n",
              "      <td>1</td>\n",
              "      <td>1</td>\n",
              "      <td>8525</td>\n",
              "      <td>4</td>\n",
              "      <td>200</td>\n",
              "      <td>1</td>\n",
              "      <td>1403</td>\n",
              "      <td>1</td>\n",
              "    </tr>\n",
              "    <tr>\n",
              "      <th>3995</th>\n",
              "      <td>4018</td>\n",
              "      <td>64385</td>\n",
              "      <td>0</td>\n",
              "      <td>1</td>\n",
              "      <td>1</td>\n",
              "      <td>1</td>\n",
              "      <td>981</td>\n",
              "      <td>5</td>\n",
              "      <td>0</td>\n",
              "      <td>0</td>\n",
              "      <td>1395</td>\n",
              "      <td>1</td>\n",
              "    </tr>\n",
              "    <tr>\n",
              "      <th>3996</th>\n",
              "      <td>4019</td>\n",
              "      <td>73597</td>\n",
              "      <td>0</td>\n",
              "      <td>3</td>\n",
              "      <td>1</td>\n",
              "      <td>1</td>\n",
              "      <td>25447</td>\n",
              "      <td>8</td>\n",
              "      <td>0</td>\n",
              "      <td>0</td>\n",
              "      <td>1402</td>\n",
              "      <td>1</td>\n",
              "    </tr>\n",
              "    <tr>\n",
              "      <th>3997</th>\n",
              "      <td>4020</td>\n",
              "      <td>54899</td>\n",
              "      <td>0</td>\n",
              "      <td>1</td>\n",
              "      <td>1</td>\n",
              "      <td>1</td>\n",
              "      <td>500</td>\n",
              "      <td>1</td>\n",
              "      <td>500</td>\n",
              "      <td>1</td>\n",
              "      <td>1401</td>\n",
              "      <td>0</td>\n",
              "    </tr>\n",
              "    <tr>\n",
              "      <th>3998</th>\n",
              "      <td>4021</td>\n",
              "      <td>3016</td>\n",
              "      <td>0</td>\n",
              "      <td>1</td>\n",
              "      <td>1</td>\n",
              "      <td>1</td>\n",
              "      <td>0</td>\n",
              "      <td>0</td>\n",
              "      <td>0</td>\n",
              "      <td>0</td>\n",
              "      <td>1398</td>\n",
              "      <td>0</td>\n",
              "    </tr>\n",
              "  </tbody>\n",
              "</table>\n",
              "<p>3999 rows × 12 columns</p>\n",
              "</div>\n",
              "      <button class=\"colab-df-convert\" onclick=\"convertToInteractive('df-39bda44d-02cc-4996-b328-caf0384d0b53')\"\n",
              "              title=\"Convert this dataframe to an interactive table.\"\n",
              "              style=\"display:none;\">\n",
              "\n",
              "  <svg xmlns=\"http://www.w3.org/2000/svg\" height=\"24px\"viewBox=\"0 0 24 24\"\n",
              "       width=\"24px\">\n",
              "    <path d=\"M0 0h24v24H0V0z\" fill=\"none\"/>\n",
              "    <path d=\"M18.56 5.44l.94 2.06.94-2.06 2.06-.94-2.06-.94-.94-2.06-.94 2.06-2.06.94zm-11 1L8.5 8.5l.94-2.06 2.06-.94-2.06-.94L8.5 2.5l-.94 2.06-2.06.94zm10 10l.94 2.06.94-2.06 2.06-.94-2.06-.94-.94-2.06-.94 2.06-2.06.94z\"/><path d=\"M17.41 7.96l-1.37-1.37c-.4-.4-.92-.59-1.43-.59-.52 0-1.04.2-1.43.59L10.3 9.45l-7.72 7.72c-.78.78-.78 2.05 0 2.83L4 21.41c.39.39.9.59 1.41.59.51 0 1.02-.2 1.41-.59l7.78-7.78 2.81-2.81c.8-.78.8-2.07 0-2.86zM5.41 20L4 18.59l7.72-7.72 1.47 1.35L5.41 20z\"/>\n",
              "  </svg>\n",
              "      </button>\n",
              "\n",
              "\n",
              "\n",
              "    <div id=\"df-8f5719c5-6aad-4429-be12-4de8612a4308\">\n",
              "      <button class=\"colab-df-quickchart\" onclick=\"quickchart('df-8f5719c5-6aad-4429-be12-4de8612a4308')\"\n",
              "              title=\"Suggest charts.\"\n",
              "              style=\"display:none;\">\n",
              "\n",
              "<svg xmlns=\"http://www.w3.org/2000/svg\" height=\"24px\"viewBox=\"0 0 24 24\"\n",
              "     width=\"24px\">\n",
              "    <g>\n",
              "        <path d=\"M19 3H5c-1.1 0-2 .9-2 2v14c0 1.1.9 2 2 2h14c1.1 0 2-.9 2-2V5c0-1.1-.9-2-2-2zM9 17H7v-7h2v7zm4 0h-2V7h2v10zm4 0h-2v-4h2v4z\"/>\n",
              "    </g>\n",
              "</svg>\n",
              "      </button>\n",
              "    </div>\n",
              "\n",
              "<style>\n",
              "  .colab-df-quickchart {\n",
              "    background-color: #E8F0FE;\n",
              "    border: none;\n",
              "    border-radius: 50%;\n",
              "    cursor: pointer;\n",
              "    display: none;\n",
              "    fill: #1967D2;\n",
              "    height: 32px;\n",
              "    padding: 0 0 0 0;\n",
              "    width: 32px;\n",
              "  }\n",
              "\n",
              "  .colab-df-quickchart:hover {\n",
              "    background-color: #E2EBFA;\n",
              "    box-shadow: 0px 1px 2px rgba(60, 64, 67, 0.3), 0px 1px 3px 1px rgba(60, 64, 67, 0.15);\n",
              "    fill: #174EA6;\n",
              "  }\n",
              "\n",
              "  [theme=dark] .colab-df-quickchart {\n",
              "    background-color: #3B4455;\n",
              "    fill: #D2E3FC;\n",
              "  }\n",
              "\n",
              "  [theme=dark] .colab-df-quickchart:hover {\n",
              "    background-color: #434B5C;\n",
              "    box-shadow: 0px 1px 3px 1px rgba(0, 0, 0, 0.15);\n",
              "    filter: drop-shadow(0px 1px 2px rgba(0, 0, 0, 0.3));\n",
              "    fill: #FFFFFF;\n",
              "  }\n",
              "</style>\n",
              "\n",
              "    <script>\n",
              "      async function quickchart(key) {\n",
              "        const containerElement = document.querySelector('#' + key);\n",
              "        const charts = await google.colab.kernel.invokeFunction(\n",
              "            'suggestCharts', [key], {});\n",
              "      }\n",
              "    </script>\n",
              "\n",
              "      <script>\n",
              "\n",
              "function displayQuickchartButton(domScope) {\n",
              "  let quickchartButtonEl =\n",
              "    domScope.querySelector('#df-8f5719c5-6aad-4429-be12-4de8612a4308 button.colab-df-quickchart');\n",
              "  quickchartButtonEl.style.display =\n",
              "    google.colab.kernel.accessAllowed ? 'block' : 'none';\n",
              "}\n",
              "\n",
              "        displayQuickchartButton(document);\n",
              "      </script>\n",
              "      <style>\n",
              "    .colab-df-container {\n",
              "      display:flex;\n",
              "      flex-wrap:wrap;\n",
              "      gap: 12px;\n",
              "    }\n",
              "\n",
              "    .colab-df-convert {\n",
              "      background-color: #E8F0FE;\n",
              "      border: none;\n",
              "      border-radius: 50%;\n",
              "      cursor: pointer;\n",
              "      display: none;\n",
              "      fill: #1967D2;\n",
              "      height: 32px;\n",
              "      padding: 0 0 0 0;\n",
              "      width: 32px;\n",
              "    }\n",
              "\n",
              "    .colab-df-convert:hover {\n",
              "      background-color: #E2EBFA;\n",
              "      box-shadow: 0px 1px 2px rgba(60, 64, 67, 0.3), 0px 1px 3px 1px rgba(60, 64, 67, 0.15);\n",
              "      fill: #174EA6;\n",
              "    }\n",
              "\n",
              "    [theme=dark] .colab-df-convert {\n",
              "      background-color: #3B4455;\n",
              "      fill: #D2E3FC;\n",
              "    }\n",
              "\n",
              "    [theme=dark] .colab-df-convert:hover {\n",
              "      background-color: #434B5C;\n",
              "      box-shadow: 0px 1px 3px 1px rgba(0, 0, 0, 0.15);\n",
              "      filter: drop-shadow(0px 1px 2px rgba(0, 0, 0, 0.3));\n",
              "      fill: #FFFFFF;\n",
              "    }\n",
              "  </style>\n",
              "\n",
              "      <script>\n",
              "        const buttonEl =\n",
              "          document.querySelector('#df-39bda44d-02cc-4996-b328-caf0384d0b53 button.colab-df-convert');\n",
              "        buttonEl.style.display =\n",
              "          google.colab.kernel.accessAllowed ? 'block' : 'none';\n",
              "\n",
              "        async function convertToInteractive(key) {\n",
              "          const element = document.querySelector('#df-39bda44d-02cc-4996-b328-caf0384d0b53');\n",
              "          const dataTable =\n",
              "            await google.colab.kernel.invokeFunction('convertToInteractive',\n",
              "                                                     [key], {});\n",
              "          if (!dataTable) return;\n",
              "\n",
              "          const docLinkHtml = 'Like what you see? Visit the ' +\n",
              "            '<a target=\"_blank\" href=https://colab.research.google.com/notebooks/data_table.ipynb>data table notebook</a>'\n",
              "            + ' to learn more about interactive tables.';\n",
              "          element.innerHTML = '';\n",
              "          dataTable['output_type'] = 'display_data';\n",
              "          await google.colab.output.renderOutput(dataTable, element);\n",
              "          const docLink = document.createElement('div');\n",
              "          docLink.innerHTML = docLinkHtml;\n",
              "          element.appendChild(docLink);\n",
              "        }\n",
              "      </script>\n",
              "    </div>\n",
              "  </div>\n"
            ]
          },
          "metadata": {},
          "execution_count": 4
        }
      ]
    },
    {
      "cell_type": "code",
      "source": [
        "df.shape"
      ],
      "metadata": {
        "colab": {
          "base_uri": "https://localhost:8080/"
        },
        "id": "iA4Y4HoOypBq",
        "outputId": "d677c46d-de3b-4ff0-c898-cd60f0ad7c5e"
      },
      "execution_count": null,
      "outputs": [
        {
          "output_type": "execute_result",
          "data": {
            "text/plain": [
              "(3999, 12)"
            ]
          },
          "metadata": {},
          "execution_count": 5
        }
      ]
    },
    {
      "cell_type": "code",
      "source": [
        "df.info()"
      ],
      "metadata": {
        "colab": {
          "base_uri": "https://localhost:8080/"
        },
        "id": "FVBh7iaQytA9",
        "outputId": "0a701337-cf70-4622-d76a-725f0a5e8c5b"
      },
      "execution_count": null,
      "outputs": [
        {
          "output_type": "stream",
          "name": "stdout",
          "text": [
            "<class 'pandas.core.frame.DataFrame'>\n",
            "RangeIndex: 3999 entries, 0 to 3998\n",
            "Data columns (total 12 columns):\n",
            " #   Column             Non-Null Count  Dtype\n",
            "---  ------             --------------  -----\n",
            " 0   ID#                3999 non-null   int64\n",
            " 1   Balance            3999 non-null   int64\n",
            " 2   Qual_miles         3999 non-null   int64\n",
            " 3   cc1_miles          3999 non-null   int64\n",
            " 4   cc2_miles          3999 non-null   int64\n",
            " 5   cc3_miles          3999 non-null   int64\n",
            " 6   Bonus_miles        3999 non-null   int64\n",
            " 7   Bonus_trans        3999 non-null   int64\n",
            " 8   Flight_miles_12mo  3999 non-null   int64\n",
            " 9   Flight_trans_12    3999 non-null   int64\n",
            " 10  Days_since_enroll  3999 non-null   int64\n",
            " 11  Award?             3999 non-null   int64\n",
            "dtypes: int64(12)\n",
            "memory usage: 375.0 KB\n"
          ]
        }
      ]
    },
    {
      "cell_type": "code",
      "source": [
        "cols=df.columns"
      ],
      "metadata": {
        "id": "NbqnUwUHy69I"
      },
      "execution_count": null,
      "outputs": []
    },
    {
      "cell_type": "code",
      "source": [
        "df.describe"
      ],
      "metadata": {
        "colab": {
          "base_uri": "https://localhost:8080/"
        },
        "id": "yAXZKF7py740",
        "outputId": "88b97c3c-dc43-4b29-f4bd-856ae15f2fc2"
      },
      "execution_count": null,
      "outputs": [
        {
          "output_type": "execute_result",
          "data": {
            "text/plain": [
              "<bound method NDFrame.describe of        ID#  Balance  Qual_miles  cc1_miles  cc2_miles  cc3_miles  Bonus_miles  \\\n",
              "0        1    28143           0          1          1          1          174   \n",
              "1        2    19244           0          1          1          1          215   \n",
              "2        3    41354           0          1          1          1         4123   \n",
              "3        4    14776           0          1          1          1          500   \n",
              "4        5    97752           0          4          1          1        43300   \n",
              "...    ...      ...         ...        ...        ...        ...          ...   \n",
              "3994  4017    18476           0          1          1          1         8525   \n",
              "3995  4018    64385           0          1          1          1          981   \n",
              "3996  4019    73597           0          3          1          1        25447   \n",
              "3997  4020    54899           0          1          1          1          500   \n",
              "3998  4021     3016           0          1          1          1            0   \n",
              "\n",
              "      Bonus_trans  Flight_miles_12mo  Flight_trans_12  Days_since_enroll  \\\n",
              "0               1                  0                0               7000   \n",
              "1               2                  0                0               6968   \n",
              "2               4                  0                0               7034   \n",
              "3               1                  0                0               6952   \n",
              "4              26               2077                4               6935   \n",
              "...           ...                ...              ...                ...   \n",
              "3994            4                200                1               1403   \n",
              "3995            5                  0                0               1395   \n",
              "3996            8                  0                0               1402   \n",
              "3997            1                500                1               1401   \n",
              "3998            0                  0                0               1398   \n",
              "\n",
              "      Award?  \n",
              "0          0  \n",
              "1          0  \n",
              "2          0  \n",
              "3          0  \n",
              "4          1  \n",
              "...      ...  \n",
              "3994       1  \n",
              "3995       1  \n",
              "3996       1  \n",
              "3997       0  \n",
              "3998       0  \n",
              "\n",
              "[3999 rows x 12 columns]>"
            ]
          },
          "metadata": {},
          "execution_count": 8
        }
      ]
    },
    {
      "cell_type": "markdown",
      "source": [
        "df.isnull.sum()"
      ],
      "metadata": {
        "id": "49-gyRnizd4V"
      }
    },
    {
      "cell_type": "code",
      "source": [
        "df.isnull().sum()"
      ],
      "metadata": {
        "colab": {
          "base_uri": "https://localhost:8080/"
        },
        "id": "NmzTd7UQzhii",
        "outputId": "68948e9f-094e-4361-b9bc-ca65e2abfade"
      },
      "execution_count": null,
      "outputs": [
        {
          "output_type": "execute_result",
          "data": {
            "text/plain": [
              "ID#                  0\n",
              "Balance              0\n",
              "Qual_miles           0\n",
              "cc1_miles            0\n",
              "cc2_miles            0\n",
              "cc3_miles            0\n",
              "Bonus_miles          0\n",
              "Bonus_trans          0\n",
              "Flight_miles_12mo    0\n",
              "Flight_trans_12      0\n",
              "Days_since_enroll    0\n",
              "Award?               0\n",
              "dtype: int64"
            ]
          },
          "metadata": {},
          "execution_count": 9
        }
      ]
    },
    {
      "cell_type": "code",
      "source": [
        "from sklearn.preprocessing import StandardScaler"
      ],
      "metadata": {
        "id": "FpbmBQ7qy81A"
      },
      "execution_count": null,
      "outputs": []
    },
    {
      "cell_type": "code",
      "source": [
        "std=StandardScaler()"
      ],
      "metadata": {
        "id": "8D9AbW9XzNxn"
      },
      "execution_count": null,
      "outputs": []
    },
    {
      "cell_type": "code",
      "source": [
        "df2=std.fit_transform(df)\n",
        "df2"
      ],
      "metadata": {
        "colab": {
          "base_uri": "https://localhost:8080/"
        },
        "id": "ADcA7yo_zTVY",
        "outputId": "598ef461-4baf-4746-9b16-abd68ac1bab1"
      },
      "execution_count": null,
      "outputs": [
        {
          "output_type": "execute_result",
          "data": {
            "text/plain": [
              "array([[-1.73512503e+00, -4.51140783e-01, -1.86298687e-01, ...,\n",
              "        -3.62167870e-01,  1.39545434e+00, -7.66919299e-01],\n",
              "       [-1.73426342e+00, -5.39456874e-01, -1.86298687e-01, ...,\n",
              "        -3.62167870e-01,  1.37995704e+00, -7.66919299e-01],\n",
              "       [-1.73340181e+00, -3.20031232e-01, -1.86298687e-01, ...,\n",
              "        -3.62167870e-01,  1.41192021e+00, -7.66919299e-01],\n",
              "       ...,\n",
              "       [ 1.72682006e+00, -4.29480975e-05, -1.86298687e-01, ...,\n",
              "        -3.62167870e-01, -1.31560393e+00,  1.30391816e+00],\n",
              "       [ 1.72768167e+00, -1.85606976e-01, -1.86298687e-01, ...,\n",
              "        -9.85033311e-02, -1.31608822e+00, -7.66919299e-01],\n",
              "       [ 1.72854328e+00, -7.00507951e-01, -1.86298687e-01, ...,\n",
              "        -3.62167870e-01, -1.31754109e+00, -7.66919299e-01]])"
            ]
          },
          "metadata": {},
          "execution_count": 12
        }
      ]
    },
    {
      "cell_type": "code",
      "source": [
        "df_norm=pd.DataFrame(df2,columns=cols)\n",
        "df_norm"
      ],
      "metadata": {
        "colab": {
          "base_uri": "https://localhost:8080/",
          "height": 423
        },
        "id": "Bd1Atz67zVG1",
        "outputId": "210c290f-5c24-4a8b-80ed-d3d7e66a448a"
      },
      "execution_count": null,
      "outputs": [
        {
          "output_type": "execute_result",
          "data": {
            "text/plain": [
              "           ID#   Balance  Qual_miles  cc1_miles  cc2_miles  cc3_miles  \\\n",
              "0    -1.735125 -0.451141   -0.186299  -0.769578  -0.098242  -0.062767   \n",
              "1    -1.734263 -0.539457   -0.186299  -0.769578  -0.098242  -0.062767   \n",
              "2    -1.733402 -0.320031   -0.186299  -0.769578  -0.098242  -0.062767   \n",
              "3    -1.732540 -0.583799   -0.186299  -0.769578  -0.098242  -0.062767   \n",
              "4    -1.731679  0.239678   -0.186299   1.409471  -0.098242  -0.062767   \n",
              "...        ...       ...         ...        ...        ...        ...   \n",
              "3994  1.725097 -0.547079   -0.186299  -0.769578  -0.098242  -0.062767   \n",
              "3995  1.725958 -0.091465   -0.186299  -0.769578  -0.098242  -0.062767   \n",
              "3996  1.726820 -0.000043   -0.186299   0.683121  -0.098242  -0.062767   \n",
              "3997  1.727682 -0.185607   -0.186299  -0.769578  -0.098242  -0.062767   \n",
              "3998  1.728543 -0.700508   -0.186299  -0.769578  -0.098242  -0.062767   \n",
              "\n",
              "      Bonus_miles  Bonus_trans  Flight_miles_12mo  Flight_trans_12  \\\n",
              "0       -0.702786    -1.104065          -0.328603        -0.362168   \n",
              "1       -0.701088    -0.999926          -0.328603        -0.362168   \n",
              "2       -0.539253    -0.791649          -0.328603        -0.362168   \n",
              "3       -0.689286    -1.104065          -0.328603        -0.362168   \n",
              "4        1.083121     1.499394           1.154932         0.692490   \n",
              "...           ...          ...                ...              ...   \n",
              "3994    -0.356960    -0.791649          -0.185750        -0.098503   \n",
              "3995    -0.669367    -0.687511          -0.328603        -0.362168   \n",
              "3996     0.343804    -0.375096          -0.328603        -0.362168   \n",
              "3997    -0.689286    -1.104065           0.028531        -0.098503   \n",
              "3998    -0.709992    -1.208203          -0.328603        -0.362168   \n",
              "\n",
              "      Days_since_enroll    Award?  \n",
              "0              1.395454 -0.766919  \n",
              "1              1.379957 -0.766919  \n",
              "2              1.411920 -0.766919  \n",
              "3              1.372208 -0.766919  \n",
              "4              1.363975  1.303918  \n",
              "...                 ...       ...  \n",
              "3994          -1.315120  1.303918  \n",
              "3995          -1.318994  1.303918  \n",
              "3996          -1.315604  1.303918  \n",
              "3997          -1.316088 -0.766919  \n",
              "3998          -1.317541 -0.766919  \n",
              "\n",
              "[3999 rows x 12 columns]"
            ],
            "text/html": [
              "\n",
              "\n",
              "  <div id=\"df-2998097f-4400-4d7f-a6cd-0a70883f756f\">\n",
              "    <div class=\"colab-df-container\">\n",
              "      <div>\n",
              "<style scoped>\n",
              "    .dataframe tbody tr th:only-of-type {\n",
              "        vertical-align: middle;\n",
              "    }\n",
              "\n",
              "    .dataframe tbody tr th {\n",
              "        vertical-align: top;\n",
              "    }\n",
              "\n",
              "    .dataframe thead th {\n",
              "        text-align: right;\n",
              "    }\n",
              "</style>\n",
              "<table border=\"1\" class=\"dataframe\">\n",
              "  <thead>\n",
              "    <tr style=\"text-align: right;\">\n",
              "      <th></th>\n",
              "      <th>ID#</th>\n",
              "      <th>Balance</th>\n",
              "      <th>Qual_miles</th>\n",
              "      <th>cc1_miles</th>\n",
              "      <th>cc2_miles</th>\n",
              "      <th>cc3_miles</th>\n",
              "      <th>Bonus_miles</th>\n",
              "      <th>Bonus_trans</th>\n",
              "      <th>Flight_miles_12mo</th>\n",
              "      <th>Flight_trans_12</th>\n",
              "      <th>Days_since_enroll</th>\n",
              "      <th>Award?</th>\n",
              "    </tr>\n",
              "  </thead>\n",
              "  <tbody>\n",
              "    <tr>\n",
              "      <th>0</th>\n",
              "      <td>-1.735125</td>\n",
              "      <td>-0.451141</td>\n",
              "      <td>-0.186299</td>\n",
              "      <td>-0.769578</td>\n",
              "      <td>-0.098242</td>\n",
              "      <td>-0.062767</td>\n",
              "      <td>-0.702786</td>\n",
              "      <td>-1.104065</td>\n",
              "      <td>-0.328603</td>\n",
              "      <td>-0.362168</td>\n",
              "      <td>1.395454</td>\n",
              "      <td>-0.766919</td>\n",
              "    </tr>\n",
              "    <tr>\n",
              "      <th>1</th>\n",
              "      <td>-1.734263</td>\n",
              "      <td>-0.539457</td>\n",
              "      <td>-0.186299</td>\n",
              "      <td>-0.769578</td>\n",
              "      <td>-0.098242</td>\n",
              "      <td>-0.062767</td>\n",
              "      <td>-0.701088</td>\n",
              "      <td>-0.999926</td>\n",
              "      <td>-0.328603</td>\n",
              "      <td>-0.362168</td>\n",
              "      <td>1.379957</td>\n",
              "      <td>-0.766919</td>\n",
              "    </tr>\n",
              "    <tr>\n",
              "      <th>2</th>\n",
              "      <td>-1.733402</td>\n",
              "      <td>-0.320031</td>\n",
              "      <td>-0.186299</td>\n",
              "      <td>-0.769578</td>\n",
              "      <td>-0.098242</td>\n",
              "      <td>-0.062767</td>\n",
              "      <td>-0.539253</td>\n",
              "      <td>-0.791649</td>\n",
              "      <td>-0.328603</td>\n",
              "      <td>-0.362168</td>\n",
              "      <td>1.411920</td>\n",
              "      <td>-0.766919</td>\n",
              "    </tr>\n",
              "    <tr>\n",
              "      <th>3</th>\n",
              "      <td>-1.732540</td>\n",
              "      <td>-0.583799</td>\n",
              "      <td>-0.186299</td>\n",
              "      <td>-0.769578</td>\n",
              "      <td>-0.098242</td>\n",
              "      <td>-0.062767</td>\n",
              "      <td>-0.689286</td>\n",
              "      <td>-1.104065</td>\n",
              "      <td>-0.328603</td>\n",
              "      <td>-0.362168</td>\n",
              "      <td>1.372208</td>\n",
              "      <td>-0.766919</td>\n",
              "    </tr>\n",
              "    <tr>\n",
              "      <th>4</th>\n",
              "      <td>-1.731679</td>\n",
              "      <td>0.239678</td>\n",
              "      <td>-0.186299</td>\n",
              "      <td>1.409471</td>\n",
              "      <td>-0.098242</td>\n",
              "      <td>-0.062767</td>\n",
              "      <td>1.083121</td>\n",
              "      <td>1.499394</td>\n",
              "      <td>1.154932</td>\n",
              "      <td>0.692490</td>\n",
              "      <td>1.363975</td>\n",
              "      <td>1.303918</td>\n",
              "    </tr>\n",
              "    <tr>\n",
              "      <th>...</th>\n",
              "      <td>...</td>\n",
              "      <td>...</td>\n",
              "      <td>...</td>\n",
              "      <td>...</td>\n",
              "      <td>...</td>\n",
              "      <td>...</td>\n",
              "      <td>...</td>\n",
              "      <td>...</td>\n",
              "      <td>...</td>\n",
              "      <td>...</td>\n",
              "      <td>...</td>\n",
              "      <td>...</td>\n",
              "    </tr>\n",
              "    <tr>\n",
              "      <th>3994</th>\n",
              "      <td>1.725097</td>\n",
              "      <td>-0.547079</td>\n",
              "      <td>-0.186299</td>\n",
              "      <td>-0.769578</td>\n",
              "      <td>-0.098242</td>\n",
              "      <td>-0.062767</td>\n",
              "      <td>-0.356960</td>\n",
              "      <td>-0.791649</td>\n",
              "      <td>-0.185750</td>\n",
              "      <td>-0.098503</td>\n",
              "      <td>-1.315120</td>\n",
              "      <td>1.303918</td>\n",
              "    </tr>\n",
              "    <tr>\n",
              "      <th>3995</th>\n",
              "      <td>1.725958</td>\n",
              "      <td>-0.091465</td>\n",
              "      <td>-0.186299</td>\n",
              "      <td>-0.769578</td>\n",
              "      <td>-0.098242</td>\n",
              "      <td>-0.062767</td>\n",
              "      <td>-0.669367</td>\n",
              "      <td>-0.687511</td>\n",
              "      <td>-0.328603</td>\n",
              "      <td>-0.362168</td>\n",
              "      <td>-1.318994</td>\n",
              "      <td>1.303918</td>\n",
              "    </tr>\n",
              "    <tr>\n",
              "      <th>3996</th>\n",
              "      <td>1.726820</td>\n",
              "      <td>-0.000043</td>\n",
              "      <td>-0.186299</td>\n",
              "      <td>0.683121</td>\n",
              "      <td>-0.098242</td>\n",
              "      <td>-0.062767</td>\n",
              "      <td>0.343804</td>\n",
              "      <td>-0.375096</td>\n",
              "      <td>-0.328603</td>\n",
              "      <td>-0.362168</td>\n",
              "      <td>-1.315604</td>\n",
              "      <td>1.303918</td>\n",
              "    </tr>\n",
              "    <tr>\n",
              "      <th>3997</th>\n",
              "      <td>1.727682</td>\n",
              "      <td>-0.185607</td>\n",
              "      <td>-0.186299</td>\n",
              "      <td>-0.769578</td>\n",
              "      <td>-0.098242</td>\n",
              "      <td>-0.062767</td>\n",
              "      <td>-0.689286</td>\n",
              "      <td>-1.104065</td>\n",
              "      <td>0.028531</td>\n",
              "      <td>-0.098503</td>\n",
              "      <td>-1.316088</td>\n",
              "      <td>-0.766919</td>\n",
              "    </tr>\n",
              "    <tr>\n",
              "      <th>3998</th>\n",
              "      <td>1.728543</td>\n",
              "      <td>-0.700508</td>\n",
              "      <td>-0.186299</td>\n",
              "      <td>-0.769578</td>\n",
              "      <td>-0.098242</td>\n",
              "      <td>-0.062767</td>\n",
              "      <td>-0.709992</td>\n",
              "      <td>-1.208203</td>\n",
              "      <td>-0.328603</td>\n",
              "      <td>-0.362168</td>\n",
              "      <td>-1.317541</td>\n",
              "      <td>-0.766919</td>\n",
              "    </tr>\n",
              "  </tbody>\n",
              "</table>\n",
              "<p>3999 rows × 12 columns</p>\n",
              "</div>\n",
              "      <button class=\"colab-df-convert\" onclick=\"convertToInteractive('df-2998097f-4400-4d7f-a6cd-0a70883f756f')\"\n",
              "              title=\"Convert this dataframe to an interactive table.\"\n",
              "              style=\"display:none;\">\n",
              "\n",
              "  <svg xmlns=\"http://www.w3.org/2000/svg\" height=\"24px\"viewBox=\"0 0 24 24\"\n",
              "       width=\"24px\">\n",
              "    <path d=\"M0 0h24v24H0V0z\" fill=\"none\"/>\n",
              "    <path d=\"M18.56 5.44l.94 2.06.94-2.06 2.06-.94-2.06-.94-.94-2.06-.94 2.06-2.06.94zm-11 1L8.5 8.5l.94-2.06 2.06-.94-2.06-.94L8.5 2.5l-.94 2.06-2.06.94zm10 10l.94 2.06.94-2.06 2.06-.94-2.06-.94-.94-2.06-.94 2.06-2.06.94z\"/><path d=\"M17.41 7.96l-1.37-1.37c-.4-.4-.92-.59-1.43-.59-.52 0-1.04.2-1.43.59L10.3 9.45l-7.72 7.72c-.78.78-.78 2.05 0 2.83L4 21.41c.39.39.9.59 1.41.59.51 0 1.02-.2 1.41-.59l7.78-7.78 2.81-2.81c.8-.78.8-2.07 0-2.86zM5.41 20L4 18.59l7.72-7.72 1.47 1.35L5.41 20z\"/>\n",
              "  </svg>\n",
              "      </button>\n",
              "\n",
              "\n",
              "\n",
              "    <div id=\"df-193395a9-628b-4676-a21b-24e52a76a01c\">\n",
              "      <button class=\"colab-df-quickchart\" onclick=\"quickchart('df-193395a9-628b-4676-a21b-24e52a76a01c')\"\n",
              "              title=\"Suggest charts.\"\n",
              "              style=\"display:none;\">\n",
              "\n",
              "<svg xmlns=\"http://www.w3.org/2000/svg\" height=\"24px\"viewBox=\"0 0 24 24\"\n",
              "     width=\"24px\">\n",
              "    <g>\n",
              "        <path d=\"M19 3H5c-1.1 0-2 .9-2 2v14c0 1.1.9 2 2 2h14c1.1 0 2-.9 2-2V5c0-1.1-.9-2-2-2zM9 17H7v-7h2v7zm4 0h-2V7h2v10zm4 0h-2v-4h2v4z\"/>\n",
              "    </g>\n",
              "</svg>\n",
              "      </button>\n",
              "    </div>\n",
              "\n",
              "<style>\n",
              "  .colab-df-quickchart {\n",
              "    background-color: #E8F0FE;\n",
              "    border: none;\n",
              "    border-radius: 50%;\n",
              "    cursor: pointer;\n",
              "    display: none;\n",
              "    fill: #1967D2;\n",
              "    height: 32px;\n",
              "    padding: 0 0 0 0;\n",
              "    width: 32px;\n",
              "  }\n",
              "\n",
              "  .colab-df-quickchart:hover {\n",
              "    background-color: #E2EBFA;\n",
              "    box-shadow: 0px 1px 2px rgba(60, 64, 67, 0.3), 0px 1px 3px 1px rgba(60, 64, 67, 0.15);\n",
              "    fill: #174EA6;\n",
              "  }\n",
              "\n",
              "  [theme=dark] .colab-df-quickchart {\n",
              "    background-color: #3B4455;\n",
              "    fill: #D2E3FC;\n",
              "  }\n",
              "\n",
              "  [theme=dark] .colab-df-quickchart:hover {\n",
              "    background-color: #434B5C;\n",
              "    box-shadow: 0px 1px 3px 1px rgba(0, 0, 0, 0.15);\n",
              "    filter: drop-shadow(0px 1px 2px rgba(0, 0, 0, 0.3));\n",
              "    fill: #FFFFFF;\n",
              "  }\n",
              "</style>\n",
              "\n",
              "    <script>\n",
              "      async function quickchart(key) {\n",
              "        const containerElement = document.querySelector('#' + key);\n",
              "        const charts = await google.colab.kernel.invokeFunction(\n",
              "            'suggestCharts', [key], {});\n",
              "      }\n",
              "    </script>\n",
              "\n",
              "      <script>\n",
              "\n",
              "function displayQuickchartButton(domScope) {\n",
              "  let quickchartButtonEl =\n",
              "    domScope.querySelector('#df-193395a9-628b-4676-a21b-24e52a76a01c button.colab-df-quickchart');\n",
              "  quickchartButtonEl.style.display =\n",
              "    google.colab.kernel.accessAllowed ? 'block' : 'none';\n",
              "}\n",
              "\n",
              "        displayQuickchartButton(document);\n",
              "      </script>\n",
              "      <style>\n",
              "    .colab-df-container {\n",
              "      display:flex;\n",
              "      flex-wrap:wrap;\n",
              "      gap: 12px;\n",
              "    }\n",
              "\n",
              "    .colab-df-convert {\n",
              "      background-color: #E8F0FE;\n",
              "      border: none;\n",
              "      border-radius: 50%;\n",
              "      cursor: pointer;\n",
              "      display: none;\n",
              "      fill: #1967D2;\n",
              "      height: 32px;\n",
              "      padding: 0 0 0 0;\n",
              "      width: 32px;\n",
              "    }\n",
              "\n",
              "    .colab-df-convert:hover {\n",
              "      background-color: #E2EBFA;\n",
              "      box-shadow: 0px 1px 2px rgba(60, 64, 67, 0.3), 0px 1px 3px 1px rgba(60, 64, 67, 0.15);\n",
              "      fill: #174EA6;\n",
              "    }\n",
              "\n",
              "    [theme=dark] .colab-df-convert {\n",
              "      background-color: #3B4455;\n",
              "      fill: #D2E3FC;\n",
              "    }\n",
              "\n",
              "    [theme=dark] .colab-df-convert:hover {\n",
              "      background-color: #434B5C;\n",
              "      box-shadow: 0px 1px 3px 1px rgba(0, 0, 0, 0.15);\n",
              "      filter: drop-shadow(0px 1px 2px rgba(0, 0, 0, 0.3));\n",
              "      fill: #FFFFFF;\n",
              "    }\n",
              "  </style>\n",
              "\n",
              "      <script>\n",
              "        const buttonEl =\n",
              "          document.querySelector('#df-2998097f-4400-4d7f-a6cd-0a70883f756f button.colab-df-convert');\n",
              "        buttonEl.style.display =\n",
              "          google.colab.kernel.accessAllowed ? 'block' : 'none';\n",
              "\n",
              "        async function convertToInteractive(key) {\n",
              "          const element = document.querySelector('#df-2998097f-4400-4d7f-a6cd-0a70883f756f');\n",
              "          const dataTable =\n",
              "            await google.colab.kernel.invokeFunction('convertToInteractive',\n",
              "                                                     [key], {});\n",
              "          if (!dataTable) return;\n",
              "\n",
              "          const docLinkHtml = 'Like what you see? Visit the ' +\n",
              "            '<a target=\"_blank\" href=https://colab.research.google.com/notebooks/data_table.ipynb>data table notebook</a>'\n",
              "            + ' to learn more about interactive tables.';\n",
              "          element.innerHTML = '';\n",
              "          dataTable['output_type'] = 'display_data';\n",
              "          await google.colab.output.renderOutput(dataTable, element);\n",
              "          const docLink = document.createElement('div');\n",
              "          docLink.innerHTML = docLinkHtml;\n",
              "          element.appendChild(docLink);\n",
              "        }\n",
              "      </script>\n",
              "    </div>\n",
              "  </div>\n"
            ]
          },
          "metadata": {},
          "execution_count": 13
        }
      ]
    },
    {
      "cell_type": "code",
      "source": [
        "import warnings\n",
        "warnings.filterwarnings('ignore')"
      ],
      "metadata": {
        "id": "SUtuC_B_3sON"
      },
      "execution_count": null,
      "outputs": []
    },
    {
      "cell_type": "markdown",
      "source": [
        "# **KMeans Clustering**"
      ],
      "metadata": {
        "id": "h4YAT6pD8BDv"
      }
    },
    {
      "cell_type": "code",
      "source": [
        "plt.figure(figsize=(6,4))\n",
        "wcss=[]\n",
        "for i in range(1,15):\n",
        "  kmeans=KMeans(n_clusters=i,init='k-means++',random_state=0)\n",
        "  kmeans.fit(df_norm)\n",
        "  wcss.append(kmeans.inertia_)\n",
        "plt.plot(range(1,15),wcss)\n",
        "plt.title('elbow curve')\n",
        "plt.xlabel('no of clusters')\n",
        "plt.ylabel('wcss')\n",
        "plt.show()"
      ],
      "metadata": {
        "colab": {
          "base_uri": "https://localhost:8080/",
          "height": 410
        },
        "id": "DdydivZ7zWSV",
        "outputId": "89790d2c-ad97-436b-bc34-956196fb83ec"
      },
      "execution_count": null,
      "outputs": [
        {
          "output_type": "display_data",
          "data": {
            "text/plain": [
              "<Figure size 600x400 with 1 Axes>"
            ],
            "image/png": "[encoded data removed]"
          },
          "metadata": {}
        }
      ]
    },
    {
      "cell_type": "code",
      "source": [
        "x=df_norm.iloc[:,:].values\n",
        "km=KMeans(n_clusters=3)\n",
        "y_means=km.fit_predict(x)"
      ],
      "metadata": {
        "id": "RLsPBZuE2ltd"
      },
      "execution_count": null,
      "outputs": []
    },
    {
      "cell_type": "code",
      "source": [
        "y_means"
      ],
      "metadata": {
        "colab": {
          "base_uri": "https://localhost:8080/"
        },
        "id": "H_TOqd8cdsXC",
        "outputId": "e79363ea-6ac3-45d7-90b6-3586c1ba34f9"
      },
      "execution_count": null,
      "outputs": [
        {
          "output_type": "execute_result",
          "data": {
            "text/plain": [
              "array([2, 2, 2, ..., 2, 2, 2], dtype=int32)"
            ]
          },
          "metadata": {},
          "execution_count": 17
        }
      ]
    },
    {
      "cell_type": "code",
      "source": [
        "#rows with cluster numbert 0\n",
        "x[y_means==0]"
      ],
      "metadata": {
        "colab": {
          "base_uri": "https://localhost:8080/"
        },
        "id": "iag2dFdKdzMK",
        "outputId": "4011ffef-4413-4765-82ee-1f486b390d5c"
      },
      "execution_count": null,
      "outputs": [
        {
          "output_type": "execute_result",
          "data": {
            "text/plain": [
              "array([[-1.73167859,  0.23967783, -0.18629869, ...,  0.69249029,\n",
              "         1.36397545,  1.30391816],\n",
              "       [-1.72995538,  0.11227003, -0.18629869, ..., -0.36216787,\n",
              "         1.39254859, -0.7669193 ],\n",
              "       [-1.72737055,  0.31021955, -0.18629869, ...,  0.42882575,\n",
              "         1.36203829,  1.30391816],\n",
              "       ...,\n",
              "       [ 1.70097179,  0.17867333, -0.18629869, ..., -0.36216787,\n",
              "        -1.29526372, -0.7669193 ],\n",
              "       [ 1.70786466, -0.15099112, -0.18629869, ..., -0.36216787,\n",
              "        -1.29962234, -0.7669193 ],\n",
              "       [ 1.71734236, -0.14473883, -0.18629869, ..., -0.36216787,\n",
              "        -1.30785528, -0.7669193 ]])"
            ]
          },
          "metadata": {},
          "execution_count": 18
        }
      ]
    },
    {
      "cell_type": "code",
      "source": [
        "#rows with cluster numbert 1\n",
        "x[y_means==1]"
      ],
      "metadata": {
        "colab": {
          "base_uri": "https://localhost:8080/"
        },
        "id": "J6sg8dvdeB6o",
        "outputId": "bc975c2d-6502-479d-c211-d3cc7d18b80f"
      },
      "execution_count": null,
      "outputs": [
        {
          "output_type": "execute_result",
          "data": {
            "text/plain": [
              "array([[-1.72823216,  3.66604247, -0.18629869, ...,  2.8018066 ,\n",
              "         1.37027123,  1.30391816],\n",
              "       [-1.71703124,  1.11230909,  2.43015189, ...,  2.01081298,\n",
              "         1.34508812,  1.30391816],\n",
              "       [-1.71616963, -0.52615835, -0.18629869, ...,  2.53814206,\n",
              "         1.33927664, -0.7669193 ],\n",
              "       ...,\n",
              "       [ 1.65875295,  0.56713909, -0.18629869, ...,  1.4834839 ,\n",
              "        -1.24635038, -0.7669193 ],\n",
              "       [ 1.6734003 ,  0.02971002, -0.18629869, ..., -0.09850333,\n",
              "        -1.2608791 , -0.7669193 ],\n",
              "       [ 1.68718604, -0.13845676, -0.18629869, ...,  3.06547114,\n",
              "        -1.27976643, -0.7669193 ]])"
            ]
          },
          "metadata": {},
          "execution_count": 19
        }
      ]
    },
    {
      "cell_type": "code",
      "source": [
        "#rows with cluster numbert 2\n",
        "x[y_means==2]"
      ],
      "metadata": {
        "colab": {
          "base_uri": "https://localhost:8080/"
        },
        "id": "40RV2WigeMrg",
        "outputId": "77e02e59-be38-4926-8cc1-e2203e7cb226"
      },
      "execution_count": null,
      "outputs": [
        {
          "output_type": "execute_result",
          "data": {
            "text/plain": [
              "array([[-1.73512503e+00, -4.51140783e-01, -1.86298687e-01, ...,\n",
              "        -3.62167870e-01,  1.39545434e+00, -7.66919299e-01],\n",
              "       [-1.73426342e+00, -5.39456874e-01, -1.86298687e-01, ...,\n",
              "        -3.62167870e-01,  1.37995704e+00, -7.66919299e-01],\n",
              "       [-1.73340181e+00, -3.20031232e-01, -1.86298687e-01, ...,\n",
              "        -3.62167870e-01,  1.41192021e+00, -7.66919299e-01],\n",
              "       ...,\n",
              "       [ 1.72682006e+00, -4.29480975e-05, -1.86298687e-01, ...,\n",
              "        -3.62167870e-01, -1.31560393e+00,  1.30391816e+00],\n",
              "       [ 1.72768167e+00, -1.85606976e-01, -1.86298687e-01, ...,\n",
              "        -9.85033311e-02, -1.31608822e+00, -7.66919299e-01],\n",
              "       [ 1.72854328e+00, -7.00507951e-01, -1.86298687e-01, ...,\n",
              "        -3.62167870e-01, -1.31754109e+00, -7.66919299e-01]])"
            ]
          },
          "metadata": {},
          "execution_count": 20
        }
      ]
    },
    {
      "cell_type": "code",
      "source": [
        "plt.scatter(x[y_means==0,0],x[y_means==0,1],color='blue')\n",
        "plt.scatter(x[y_means==1,0],x[y_means==1,1],color='red')\n",
        "plt.scatter(x[y_means==2,0],x[y_means==2,1],color='green')"
      ],
      "metadata": {
        "colab": {
          "base_uri": "https://localhost:8080/",
          "height": 448
        },
        "id": "iJkpMVclePoY",
        "outputId": "96b75a88-de2e-4041-91c7-d2f2cbb25eb1"
      },
      "execution_count": null,
      "outputs": [
        {
          "output_type": "execute_result",
          "data": {
            "text/plain": [
              "<matplotlib.collections.PathCollection at 0x7bb43112ee60>"
            ]
          },
          "metadata": {},
          "execution_count": 21
        },
        {
          "output_type": "display_data",
          "data": {
            "text/plain": [
              "<Figure size 640x480 with 1 Axes>"
            ],
            "image/png": "[encoded data removed]"
          },
          "metadata": {}
        }
      ]
    },
    {
      "cell_type": "markdown",
      "source": [
        "# **Hierarchical clustering**"
      ],
      "metadata": {
        "id": "kFKHbFA3g6gv"
      }
    },
    {
      "cell_type": "code",
      "source": [
        "X=df_norm.values"
      ],
      "metadata": {
        "id": "jnbsrzJYiSvL"
      },
      "execution_count": null,
      "outputs": []
    },
    {
      "cell_type": "code",
      "source": [
        "model = AgglomerativeClustering(n_clusters=3)"
      ],
      "metadata": {
        "id": "tW8aYD8UlQ9c"
      },
      "execution_count": null,
      "outputs": []
    },
    {
      "cell_type": "code",
      "source": [
        "h_clusters=model.fit(X)\n",
        "h_clusters"
      ],
      "metadata": {
        "colab": {
          "base_uri": "https://localhost:8080/",
          "height": 74
        },
        "id": "U9jVpqhXlcp4",
        "outputId": "c887b0ef-07f1-4a42-d8a4-8e55183fc2db"
      },
      "execution_count": null,
      "outputs": [
        {
          "output_type": "execute_result",
          "data": {
            "text/plain": [
              "AgglomerativeClustering(n_clusters=3)"
            ],
            "text/html": [
              "<style>#sk-container-id-1 {color: black;background-color: white;}#sk-container-id-1 pre{padding: 0;}#sk-container-id-1 div.sk-toggleable {background-color: white;}#sk-container-id-1 label.sk-toggleable__label {cursor: pointer;display: block;width: 100%;margin-bottom: 0;padding: 0.3em;box-sizing: border-box;text-align: center;}#sk-container-id-1 label.sk-toggleable__label-arrow:before {content: \"▸\";float: left;margin-right: 0.25em;color: #696969;}#sk-container-id-1 label.sk-toggleable__label-arrow:hover:before {color: black;}#sk-container-id-1 div.sk-estimator:hover label.sk-toggleable__label-arrow:before {color: black;}#sk-container-id-1 div.sk-toggleable__content {max-height: 0;max-width: 0;overflow: hidden;text-align: left;background-color: #f0f8ff;}#sk-container-id-1 div.sk-toggleable__content pre {margin: 0.2em;color: black;border-radius: 0.25em;background-color: #f0f8ff;}#sk-container-id-1 input.sk-toggleable__control:checked~div.sk-toggleable__content {max-height: 200px;max-width: 100%;overflow: auto;}#sk-container-id-1 input.sk-toggleable__control:checked~label.sk-toggleable__label-arrow:before {content: \"▾\";}#sk-container-id-1 div.sk-estimator input.sk-toggleable__control:checked~label.sk-toggleable__label {background-color: #d4ebff;}#sk-container-id-1 div.sk-label input.sk-toggleable__control:checked~label.sk-toggleable__label {background-color: #d4ebff;}#sk-container-id-1 input.sk-hidden--visually {border: 0;clip: rect(1px 1px 1px 1px);clip: rect(1px, 1px, 1px, 1px);height: 1px;margin: -1px;overflow: hidden;padding: 0;position: absolute;width: 1px;}#sk-container-id-1 div.sk-estimator {font-family: monospace;background-color: #f0f8ff;border: 1px dotted black;border-radius: 0.25em;box-sizing: border-box;margin-bottom: 0.5em;}#sk-container-id-1 div.sk-estimator:hover {background-color: #d4ebff;}#sk-container-id-1 div.sk-parallel-item::after {content: \"\";width: 100%;border-bottom: 1px solid gray;flex-grow: 1;}#sk-container-id-1 div.sk-label:hover label.sk-toggleable__label {background-color: #d4ebff;}#sk-container-id-1 div.sk-serial::before {content: \"\";position: absolute;border-left: 1px solid gray;box-sizing: border-box;top: 0;bottom: 0;left: 50%;z-index: 0;}#sk-container-id-1 div.sk-serial {display: flex;flex-direction: column;align-items: center;background-color: white;padding-right: 0.2em;padding-left: 0.2em;position: relative;}#sk-container-id-1 div.sk-item {position: relative;z-index: 1;}#sk-container-id-1 div.sk-parallel {display: flex;align-items: stretch;justify-content: center;background-color: white;position: relative;}#sk-container-id-1 div.sk-item::before, #sk-container-id-1 div.sk-parallel-item::before {content: \"\";position: absolute;border-left: 1px solid gray;box-sizing: border-box;top: 0;bottom: 0;left: 50%;z-index: -1;}#sk-container-id-1 div.sk-parallel-item {display: flex;flex-direction: column;z-index: 1;position: relative;background-color: white;}#sk-container-id-1 div.sk-parallel-item:first-child::after {align-self: flex-end;width: 50%;}#sk-container-id-1 div.sk-parallel-item:last-child::after {align-self: flex-start;width: 50%;}#sk-container-id-1 div.sk-parallel-item:only-child::after {width: 0;}#sk-container-id-1 div.sk-dashed-wrapped {border: 1px dashed gray;margin: 0 0.4em 0.5em 0.4em;box-sizing: border-box;padding-bottom: 0.4em;background-color: white;}#sk-container-id-1 div.sk-label label {font-family: monospace;font-weight: bold;display: inline-block;line-height: 1.2em;}#sk-container-id-1 div.sk-label-container {text-align: center;}#sk-container-id-1 div.sk-container {/* jupyter's `normalize.less` sets `[hidden] { display: none; }` but bootstrap.min.css set `[hidden] { display: none !important; }` so we also need the `!important` here to be able to override the default hidden behavior on the sphinx rendered scikit-learn.org. See: https://github.com/scikit-learn/scikit-learn/issues/21755 */display: inline-block !important;position: relative;}#sk-container-id-1 div.sk-text-repr-fallback {display: none;}</style><div id=\"sk-container-id-1\" class=\"sk-top-container\"><div class=\"sk-text-repr-fallback\"><pre>AgglomerativeClustering(n_clusters=3)</pre><b>In a Jupyter environment, please rerun this cell to show the HTML representation or trust the notebook. <br />On GitHub, the HTML representation is unable to render, please try loading this page with nbviewer.org.</b></div><div class=\"sk-container\" hidden><div class=\"sk-item\"><div class=\"sk-estimator sk-toggleable\"><input class=\"sk-toggleable__control sk-hidden--visually\" id=\"sk-estimator-id-1\" type=\"checkbox\" checked><label for=\"sk-estimator-id-1\" class=\"sk-toggleable__label sk-toggleable__label-arrow\">AgglomerativeClustering</label><div class=\"sk-toggleable__content\"><pre>AgglomerativeClustering(n_clusters=3)</pre></div></div></div></div></div>"
            ]
          },
          "metadata": {},
          "execution_count": 24
        }
      ]
    },
    {
      "cell_type": "code",
      "source": [
        "labels=model.labels_"
      ],
      "metadata": {
        "id": "_E03LLAxlofj"
      },
      "execution_count": null,
      "outputs": []
    },
    {
      "cell_type": "code",
      "source": [
        "plt.scatter(X[labels==0, 0], X[labels==0, 1], s=50, marker='o', color='red')\n",
        "plt.scatter(X[labels==1, 0], X[labels==1, 1], s=50, marker='o', color='blue')\n",
        "plt.scatter(X[labels==2, 0], X[labels==2, 1], s=50, marker='o', color='green')"
      ],
      "metadata": {
        "colab": {
          "base_uri": "https://localhost:8080/",
          "height": 448
        },
        "id": "a52wVN-Wl2LL",
        "outputId": "374f1ce3-a3b4-4799-acdf-f1b1687a0f62"
      },
      "execution_count": null,
      "outputs": [
        {
          "output_type": "execute_result",
          "data": {
            "text/plain": [
              "<matplotlib.collections.PathCollection at 0x7bb430ff90c0>"
            ]
          },
          "metadata": {},
          "execution_count": 26
        },
        {
          "output_type": "display_data",
          "data": {
            "text/plain": [
              "<Figure size 640x480 with 1 Axes>"
            ],
            "image/png": "[encoded data removed]"
          },
          "metadata": {}
        }
      ]
    },
    {
      "cell_type": "markdown",
      "source": [
        "# **performing linkage**"
      ],
      "metadata": {
        "id": "xk5TmW4E2gtS"
      }
    },
    {
      "cell_type": "code",
      "source": [
        "from scipy.cluster.hierarchy import linkage\n",
        "import scipy.cluster.hierarchy as sch # for creating dendrogram\n",
        "#p = np.array(df_norm) # converting into numpy array format\n",
        "z = linkage(X, method=\"single\",metric=\"euclidean\")\n",
        "plt.figure(figsize=(15, 5))\n",
        "plt.title('Hierarchical Clustering Dendrogram')\n",
        "plt.xlabel('Index')\n",
        "plt.ylabel('Distance')\n",
        "sch.dendrogram(\n",
        "    z,\n",
        "    #leaf_rotation=0.,  # rotates the x axis labels\n",
        "    #leaf_font_size=8.,  # font size for the x axis labels\n",
        ")\n",
        "plt.show()"
      ],
      "metadata": {
        "colab": {
          "base_uri": "https://localhost:8080/",
          "height": 491
        },
        "id": "ziYVCWvwnCzg",
        "outputId": "b7af3216-c752-41b7-817d-50ddc6cb8354"
      },
      "execution_count": null,
      "outputs": [
        {
          "output_type": "display_data",
          "data": {
            "text/plain": [
              "<Figure size 1500x500 with 1 Axes>"
            ],
            "image/png": "[encoded data removed]"
          },
          "metadata": {}
        }
      ]
    },
    {
      "cell_type": "code",
      "source": [
        "X.shape"
      ],
      "metadata": {
        "colab": {
          "base_uri": "https://localhost:8080/"
        },
        "id": "7RTwjK1QnCv-",
        "outputId": "993cca39-7741-4bd5-bff7-8123c80e185c"
      },
      "execution_count": null,
      "outputs": [
        {
          "output_type": "execute_result",
          "data": {
            "text/plain": [
              "(3999, 12)"
            ]
          },
          "metadata": {},
          "execution_count": 39
        }
      ]
    },
    {
      "cell_type": "code",
      "source": [
        "from sklearn.cluster import AgglomerativeClustering\n",
        "h_complete = AgglomerativeClustering(n_clusters=5, linkage='single',affinity = \"euclidean\").fit(X)\n",
        "\n"
      ],
      "metadata": {
        "id": "upn_SkwYnCuT"
      },
      "execution_count": null,
      "outputs": []
    },
    {
      "cell_type": "code",
      "source": [
        "h_complete"
      ],
      "metadata": {
        "colab": {
          "base_uri": "https://localhost:8080/",
          "height": 74
        },
        "id": "BSe3G7RInCsO",
        "outputId": "3ede52aa-886b-48bd-96ec-c4e098ea0185"
      },
      "execution_count": null,
      "outputs": [
        {
          "output_type": "execute_result",
          "data": {
            "text/plain": [
              "AgglomerativeClustering(affinity='euclidean', linkage='single', n_clusters=5)"
            ],
            "text/html": [
              "<style>#sk-container-id-2 {color: black;background-color: white;}#sk-container-id-2 pre{padding: 0;}#sk-container-id-2 div.sk-toggleable {background-color: white;}#sk-container-id-2 label.sk-toggleable__label {cursor: pointer;display: block;width: 100%;margin-bottom: 0;padding: 0.3em;box-sizing: border-box;text-align: center;}#sk-container-id-2 label.sk-toggleable__label-arrow:before {content: \"▸\";float: left;margin-right: 0.25em;color: #696969;}#sk-container-id-2 label.sk-toggleable__label-arrow:hover:before {color: black;}#sk-container-id-2 div.sk-estimator:hover label.sk-toggleable__label-arrow:before {color: black;}#sk-container-id-2 div.sk-toggleable__content {max-height: 0;max-width: 0;overflow: hidden;text-align: left;background-color: #f0f8ff;}#sk-container-id-2 div.sk-toggleable__content pre {margin: 0.2em;color: black;border-radius: 0.25em;background-color: #f0f8ff;}#sk-container-id-2 input.sk-toggleable__control:checked~div.sk-toggleable__content {max-height: 200px;max-width: 100%;overflow: auto;}#sk-container-id-2 input.sk-toggleable__control:checked~label.sk-toggleable__label-arrow:before {content: \"▾\";}#sk-container-id-2 div.sk-estimator input.sk-toggleable__control:checked~label.sk-toggleable__label {background-color: #d4ebff;}#sk-container-id-2 div.sk-label input.sk-toggleable__control:checked~label.sk-toggleable__label {background-color: #d4ebff;}#sk-container-id-2 input.sk-hidden--visually {border: 0;clip: rect(1px 1px 1px 1px);clip: rect(1px, 1px, 1px, 1px);height: 1px;margin: -1px;overflow: hidden;padding: 0;position: absolute;width: 1px;}#sk-container-id-2 div.sk-estimator {font-family: monospace;background-color: #f0f8ff;border: 1px dotted black;border-radius: 0.25em;box-sizing: border-box;margin-bottom: 0.5em;}#sk-container-id-2 div.sk-estimator:hover {background-color: #d4ebff;}#sk-container-id-2 div.sk-parallel-item::after {content: \"\";width: 100%;border-bottom: 1px solid gray;flex-grow: 1;}#sk-container-id-2 div.sk-label:hover label.sk-toggleable__label {background-color: #d4ebff;}#sk-container-id-2 div.sk-serial::before {content: \"\";position: absolute;border-left: 1px solid gray;box-sizing: border-box;top: 0;bottom: 0;left: 50%;z-index: 0;}#sk-container-id-2 div.sk-serial {display: flex;flex-direction: column;align-items: center;background-color: white;padding-right: 0.2em;padding-left: 0.2em;position: relative;}#sk-container-id-2 div.sk-item {position: relative;z-index: 1;}#sk-container-id-2 div.sk-parallel {display: flex;align-items: stretch;justify-content: center;background-color: white;position: relative;}#sk-container-id-2 div.sk-item::before, #sk-container-id-2 div.sk-parallel-item::before {content: \"\";position: absolute;border-left: 1px solid gray;box-sizing: border-box;top: 0;bottom: 0;left: 50%;z-index: -1;}#sk-container-id-2 div.sk-parallel-item {display: flex;flex-direction: column;z-index: 1;position: relative;background-color: white;}#sk-container-id-2 div.sk-parallel-item:first-child::after {align-self: flex-end;width: 50%;}#sk-container-id-2 div.sk-parallel-item:last-child::after {align-self: flex-start;width: 50%;}#sk-container-id-2 div.sk-parallel-item:only-child::after {width: 0;}#sk-container-id-2 div.sk-dashed-wrapped {border: 1px dashed gray;margin: 0 0.4em 0.5em 0.4em;box-sizing: border-box;padding-bottom: 0.4em;background-color: white;}#sk-container-id-2 div.sk-label label {font-family: monospace;font-weight: bold;display: inline-block;line-height: 1.2em;}#sk-container-id-2 div.sk-label-container {text-align: center;}#sk-container-id-2 div.sk-container {/* jupyter's `normalize.less` sets `[hidden] { display: none; }` but bootstrap.min.css set `[hidden] { display: none !important; }` so we also need the `!important` here to be able to override the default hidden behavior on the sphinx rendered scikit-learn.org. See: https://github.com/scikit-learn/scikit-learn/issues/21755 */display: inline-block !important;position: relative;}#sk-container-id-2 div.sk-text-repr-fallback {display: none;}</style><div id=\"sk-container-id-2\" class=\"sk-top-container\"><div class=\"sk-text-repr-fallback\"><pre>AgglomerativeClustering(affinity=&#x27;euclidean&#x27;, linkage=&#x27;single&#x27;, n_clusters=5)</pre><b>In a Jupyter environment, please rerun this cell to show the HTML representation or trust the notebook. <br />On GitHub, the HTML representation is unable to render, please try loading this page with nbviewer.org.</b></div><div class=\"sk-container\" hidden><div class=\"sk-item\"><div class=\"sk-estimator sk-toggleable\"><input class=\"sk-toggleable__control sk-hidden--visually\" id=\"sk-estimator-id-2\" type=\"checkbox\" checked><label for=\"sk-estimator-id-2\" class=\"sk-toggleable__label sk-toggleable__label-arrow\">AgglomerativeClustering</label><div class=\"sk-toggleable__content\"><pre>AgglomerativeClustering(affinity=&#x27;euclidean&#x27;, linkage=&#x27;single&#x27;, n_clusters=5)</pre></div></div></div></div></div>"
            ]
          },
          "metadata": {},
          "execution_count": 44
        }
      ]
    },
    {
      "cell_type": "code",
      "source": [
        "h_complete.labels_"
      ],
      "metadata": {
        "colab": {
          "base_uri": "https://localhost:8080/"
        },
        "id": "fWVq-gTPnCqQ",
        "outputId": "de47e56e-feb5-46a0-886a-7751fb772a9a"
      },
      "execution_count": null,
      "outputs": [
        {
          "output_type": "execute_result",
          "data": {
            "text/plain": [
              "array([0, 0, 0, ..., 0, 0, 0])"
            ]
          },
          "metadata": {},
          "execution_count": 45
        }
      ]
    },
    {
      "cell_type": "code",
      "source": [
        "from scipy.cluster.hierarchy import linkage\n",
        "import scipy.cluster.hierarchy as sch # for creating dendrogram\n",
        "#p = np.array(df_norm) # converting into numpy array format\n",
        "z = linkage(X, method=\"average\",metric=\"euclidean\")\n",
        "plt.figure(figsize=(15, 5))\n",
        "plt.title('Hierarchical Clustering Dendrogram')\n",
        "plt.xlabel('Index')\n",
        "plt.ylabel('Distance')\n",
        "sch.dendrogram(\n",
        "    z,\n",
        "    #leaf_rotation=0.,  # rotates the x axis labels\n",
        "    #leaf_font_size=8.,  # font size for the x axis labels\n",
        ")\n",
        "plt.show()"
      ],
      "metadata": {
        "colab": {
          "base_uri": "https://localhost:8080/",
          "height": 491
        },
        "id": "ytUTkufXnCoM",
        "outputId": "383ee282-05fa-4205-f92b-8636a01d67ad"
      },
      "execution_count": null,
      "outputs": [
        {
          "output_type": "display_data",
          "data": {
            "text/plain": [
              "<Figure size 1500x500 with 1 Axes>"
            ],
            "image/png": "[encoded data removed]"
          },
          "metadata": {}
        }
      ]
    },
    {
      "cell_type": "code",
      "source": [
        "from sklearn.cluster import AgglomerativeClustering\n",
        "h_complete = AgglomerativeClustering(n_clusters=5, linkage='average',affinity = \"euclidean\").fit(X)\n",
        "labels=h_complete.labels_"
      ],
      "metadata": {
        "id": "TJUUwOTfnCmQ"
      },
      "execution_count": null,
      "outputs": []
    },
    {
      "cell_type": "code",
      "source": [
        "np.unique(labels)"
      ],
      "metadata": {
        "colab": {
          "base_uri": "https://localhost:8080/"
        },
        "id": "JqSswAaYnCkR",
        "outputId": "3ed229bc-f5ba-431d-d96c-30cd3125bd7c"
      },
      "execution_count": null,
      "outputs": [
        {
          "output_type": "execute_result",
          "data": {
            "text/plain": [
              "array([0, 1, 2, 3, 4])"
            ]
          },
          "metadata": {},
          "execution_count": 50
        }
      ]
    },
    {
      "cell_type": "markdown",
      "source": [
        "# **DB scan**"
      ],
      "metadata": {
        "id": "m_9vcUQ-wqJY"
      }
    },
    {
      "cell_type": "code",
      "source": [
        "from sklearn.cluster import DBSCAN"
      ],
      "metadata": {
        "id": "PjqR-JpimDzH"
      },
      "execution_count": null,
      "outputs": []
    },
    {
      "cell_type": "code",
      "source": [
        "dbscan=DBSCAN(eps=3,min_samples=3)\n"
      ],
      "metadata": {
        "id": "iSJ_-zknwyd0"
      },
      "execution_count": null,
      "outputs": []
    },
    {
      "cell_type": "code",
      "source": [
        "labels=dbscan.fit_predict(df_norm)\n",
        "labels"
      ],
      "metadata": {
        "colab": {
          "base_uri": "https://localhost:8080/"
        },
        "id": "fu2AfABmxGjG",
        "outputId": "e3cb12c6-95f7-4fd5-ef90-3ad90d1bc88b"
      },
      "execution_count": null,
      "outputs": [
        {
          "output_type": "execute_result",
          "data": {
            "text/plain": [
              "array([0, 0, 0, ..., 0, 0, 0])"
            ]
          },
          "metadata": {},
          "execution_count": 29
        }
      ]
    },
    {
      "cell_type": "code",
      "source": [
        "labels.shape"
      ],
      "metadata": {
        "colab": {
          "base_uri": "https://localhost:8080/"
        },
        "id": "AyJZ-n5Uz_63",
        "outputId": "9f965b0e-c74b-4e5c-8855-4cec6211637f"
      },
      "execution_count": null,
      "outputs": [
        {
          "output_type": "execute_result",
          "data": {
            "text/plain": [
              "(3999,)"
            ]
          },
          "metadata": {},
          "execution_count": 30
        }
      ]
    },
    {
      "cell_type": "code",
      "source": [
        "np.unique(labels)"
      ],
      "metadata": {
        "colab": {
          "base_uri": "https://localhost:8080/"
        },
        "id": "QNDGvXg1xMhX",
        "outputId": "2015bf3c-4f8c-454c-8fc1-26132cc920d0"
      },
      "execution_count": null,
      "outputs": [
        {
          "output_type": "execute_result",
          "data": {
            "text/plain": [
              "array([-1,  0,  1,  2,  3,  4,  5])"
            ]
          },
          "metadata": {},
          "execution_count": 31
        }
      ]
    },
    {
      "cell_type": "code",
      "source": [
        "x[labels==-1]"
      ],
      "metadata": {
        "colab": {
          "base_uri": "https://localhost:8080/"
        },
        "id": "EQplDC8_57EY",
        "outputId": "63a0fdbf-0eff-4044-c5d9-06110d7eaaa1"
      },
      "execution_count": null,
      "outputs": [
        {
          "output_type": "execute_result",
          "data": {
            "text/plain": [
              "array([[-1.72823216e+00,  3.66604247e+00, -1.86298687e-01,\n",
              "         6.83121167e-01,  6.67536684e+00, -6.27665798e-02,\n",
              "        -6.37397687e-01,  3.26974658e+00,  2.42132978e+00,\n",
              "         2.80180660e+00,  1.37027123e+00,  1.30391816e+00],\n",
              "       [-1.64207126e+00,  2.28513023e-01,  1.34168777e+00,\n",
              "        -7.69578406e-01, -9.82418871e-02,  1.01822764e+01,\n",
              "         1.32160935e+00,  1.49939447e+00,  1.31421388e+00,\n",
              "         2.01081298e+00,  1.26857022e+00,  1.30391816e+00],\n",
              "       [-1.62483907e+00,  5.24460701e+00, -1.86298687e-01,\n",
              "         2.13582074e+00, -9.82418871e-02, -6.27665798e-02,\n",
              "         7.35499984e+00,  1.49939447e+00,  1.27850047e+00,\n",
              "         2.27447752e+00,  1.71121175e+00,  1.30391816e+00],\n",
              "       [-1.61708459e+00,  1.84475010e+00,  2.10955914e+00,\n",
              "        -7.69578406e-01, -9.82418871e-02, -6.27665798e-02,\n",
              "         8.39472483e-02,  1.49939447e+00,  4.79412914e+00,\n",
              "         5.70211652e+00,  1.26130587e+00,  1.30391816e+00],\n",
              "       [-1.60329885e+00,  8.50320185e+00, -1.86298687e-01,\n",
              "         2.13582074e+00, -9.82418871e-02, -6.27665798e-02,\n",
              "         8.03957147e+00,  6.66287589e-01,  1.27850047e+00,\n",
              "         1.21981936e+00,  1.70540026e+00,  1.30391816e+00],\n",
              "       [-1.57228092e+00,  6.28680438e+00, -1.86298687e-01,\n",
              "         1.40947095e+00, -9.82418871e-02, -6.27665798e-02,\n",
              "         1.65762133e+00,  2.95733150e+00,  2.13562245e+00,\n",
              "         2.80180660e+00,  1.64873827e+00,  1.30391816e+00],\n",
              "       [-1.56883449e+00,  4.95366758e-01, -1.86298687e-01,\n",
              "         2.13582074e+00, -9.82418871e-02, -6.27665798e-02,\n",
              "         9.25126862e+00,  2.02008626e+00,  2.85309024e-02,\n",
              "         1.65161208e-01,  1.64098962e+00,  1.30391816e+00],\n",
              "       [-1.54298622e+00,  1.21914680e+01,  3.31178198e+00,\n",
              "         2.13582074e+00, -9.82418871e-02, -6.27665798e-02,\n",
              "         3.04407454e+00,  2.12422462e+00,  1.84991512e+00,\n",
              "         1.48348390e+00,  1.62161800e+00,  1.30391816e+00],\n",
              "       [-1.49559772e+00,  1.61888355e+01, -1.86298687e-01,\n",
              "        -7.69578406e-01, -9.82418871e-02, -6.27665798e-02,\n",
              "        -1.52585270e-03,  2.12422462e+00,  3.11631286e+00,\n",
              "         5.70211652e+00,  1.53250855e+00,  1.30391816e+00],\n",
              "       [-1.43614670e+00,  3.86050908e-01, -1.86298687e-01,\n",
              "        -7.69578406e-01, -9.82418871e-02,  5.05975491e+00,\n",
              "         8.26220840e-02, -6.26809281e-02, -3.28603258e-01,\n",
              "        -3.62167870e-01,  1.44436768e+00, -7.66919299e-01],\n",
              "       [-1.40426716e+00,  3.01351170e+00, -1.86298687e-01,\n",
              "         2.13582074e+00, -9.82418871e-02, -6.27665798e-02,\n",
              "         8.84067473e+00,  1.91594791e+00,  4.23771412e+00,\n",
              "         3.06547114e+00,  1.39351717e+00,  1.30391816e+00],\n",
              "       [-1.38272694e+00,  4.30618775e+00,  2.33707658e+00,\n",
              "         2.13582074e+00, -9.82418871e-02, -6.27665798e-02,\n",
              "         3.52552332e+00,  2.12422462e+00,  2.87489016e+00,\n",
              "         3.06547114e+00,  2.02309483e+00,  1.30391816e+00],\n",
              "       [-1.37755728e+00,  5.42755103e+00, -1.86298687e-01,\n",
              "         2.13582074e+00, -9.82418871e-02, -6.27665798e-02,\n",
              "         3.41650304e-01,  4.31113018e+00,  9.21366304e-01,\n",
              "         3.32913567e+00,  2.02309483e+00,  1.30391816e+00],\n",
              "       [-1.36894119e+00,  4.52829295e+00,  9.13416015e+00,\n",
              "        -7.69578406e-01, -9.82418871e-02, -6.27665798e-02,\n",
              "         2.78332295e-01,  1.49939447e+00,  5.20054782e+00,\n",
              "         3.59280021e+00,  2.02309483e+00,  1.30391816e+00],\n",
              "       [-1.32930718e+00,  1.03191847e+01,  2.41851748e+00,\n",
              "         2.13582074e+00, -9.82418871e-02, -6.27665798e-02,\n",
              "         1.81125758e+00,  1.49939447e+00,  1.52849438e+00,\n",
              "         2.01081298e+00,  1.99016308e+00,  1.30391816e+00],\n",
              "       [-1.32499913e+00,  6.65068772e+00,  2.48444583e+00,\n",
              "        -7.69578406e-01, -9.82418871e-02, -6.27665798e-02,\n",
              "        -5.40205164e-01,  8.74564309e-01,  1.45706755e+00,\n",
              "         4.38379383e+00,  1.99016308e+00,  1.30391816e+00],\n",
              "       [-1.31638304e+00,  1.04351201e+01, -1.86298687e-01,\n",
              "         6.83121167e-01, -9.82418871e-02, -6.27665798e-02,\n",
              "         2.44374958e-01,  2.49734151e-01, -3.28603258e-01,\n",
              "        -3.62167870e-01,  1.93156393e+00, -7.66919299e-01],\n",
              "       [-1.31035178e+00,  1.11709453e+01,  3.58712979e+00,\n",
              "        -7.69578406e-01, -9.82418871e-02, -6.27665798e-02,\n",
              "        -5.52628580e-01,  7.70425949e-01,  2.02848220e+00,\n",
              "         4.38379383e+00,  1.89088352e+00,  1.30391816e+00],\n",
              "       [-1.27330259e+00,  2.46823304e-01,  2.10955914e+00,\n",
              "         2.13582074e+00, -9.82418871e-02, -6.27665798e-02,\n",
              "         4.44245423e+00,  3.47802330e+00,  6.99264704e+00,\n",
              "         7.02043922e+00,  1.21190823e+00,  1.30391816e+00],\n",
              "       [-1.27071776e+00,  1.92335033e+00, -1.86298687e-01,\n",
              "         2.13582074e+00, -9.82418871e-02, -6.27665798e-02,\n",
              "         1.02095695e+01,  4.10285346e+00,  1.81420171e+00,\n",
              "         1.21981936e+00,  1.19398948e+00,  1.30391816e+00],\n",
              "       [-1.24659271e+00,  3.05001317e+00, -1.86298687e-01,\n",
              "        -4.32286194e-02,  6.67536684e+00, -6.27665798e-02,\n",
              "         2.21143171e-01,  1.39525611e+00, -1.76464106e-01,\n",
              "        -9.85033311e-02,  1.17219641e+00,  1.30391816e+00],\n",
              "       [-1.21729800e+00, -1.94419729e-01,  1.88721254e+00,\n",
              "         6.83121167e-01, -9.82418871e-02, -6.27665798e-02,\n",
              "         8.79377154e-01,  8.74564309e-01,  3.79986764e+00,\n",
              "         6.92490285e-01,  1.14701331e+00,  1.30391816e+00],\n",
              "       [-1.19231134e+00, -1.14340782e-01,  3.65952171e+00,\n",
              "        -4.32286194e-02, -9.82418871e-02, -6.27665798e-02,\n",
              "         8.15039765e-02,  2.12422462e+00,  7.27835437e+00,\n",
              "         7.02043922e+00,  1.12134591e+00,  1.30391816e+00],\n",
              "       [-1.18541847e+00,  3.38882780e+00,  5.73816403e-01,\n",
              "         2.13582074e+00, -9.82418871e-02, -6.27665798e-02,\n",
              "         5.63352852e+00,  3.06146986e+00,  2.38704490e+00,\n",
              "         4.91112291e+00,  1.11601871e+00,  1.30391816e+00],\n",
              "       [-1.15784698e+00,  3.56585746e-01, -1.86298687e-01,\n",
              "         2.13582074e+00, -9.82418871e-02, -6.27665798e-02,\n",
              "         4.59265333e+00,  4.31113018e+00,  5.34197295e+00,\n",
              "         6.49311014e+00,  1.09131990e+00,  1.30391816e+00],\n",
              "       [-1.12252101e+00,  2.65248655e+00, -1.86298687e-01,\n",
              "         2.13582074e+00, -9.82418871e-02, -6.27665798e-02,\n",
              "         2.10970944e+00,  3.26974658e+00,  3.72558374e+00,\n",
              "         6.75677468e+00,  1.05887243e+00,  1.30391816e+00],\n",
              "       [-9.01087488e-01, -5.97702423e-01,  5.37365880e+00,\n",
              "         1.40947095e+00, -9.82418871e-02, -6.27665798e-02,\n",
              "        -5.85079200e-02,  3.26974658e+00,  6.24266530e+00,\n",
              "         7.02043922e+00,  8.70483425e-01,  1.30391816e+00],\n",
              "       [-8.33881983e-01,  8.04487966e-01, -1.86298687e-01,\n",
              "         1.40947095e+00, -9.82418871e-02,  1.01822764e+01,\n",
              "         2.34952277e+00,  2.22836298e+00, -3.28603258e-01,\n",
              "        -3.62167870e-01,  7.99292721e-01, -7.66919299e-01],\n",
              "       [-6.04693981e-01,  6.58884958e+00, -1.86298687e-01,\n",
              "         6.83121167e-01, -9.82418871e-02,  1.53047979e+01,\n",
              "         1.11181926e+00,  2.95733150e+00,  1.20707363e+00,\n",
              "         1.48348390e+00,  4.41402036e-01, -7.66919299e-01],\n",
              "       [-4.05662295e-01, -1.56250981e-01,  1.23439261e+00,\n",
              "        -7.69578406e-01, -9.82418871e-02, -6.27665798e-02,\n",
              "         1.88443150e+00,  2.64491642e+00,  8.52832393e+00,\n",
              "         7.28410376e+00,  4.24936158e-01,  1.30391816e+00],\n",
              "       [-3.50519317e-01,  1.08937410e+00, -1.86298687e-01,\n",
              "        -7.69578406e-01, -9.82418871e-02, -6.27665798e-02,\n",
              "         5.73264187e-01,  2.49734151e-01,  8.94831370e+00,\n",
              "         2.01081298e+00,  3.53261163e-01,  1.30391816e+00],\n",
              "       [-2.78144158e-01, -2.21284732e-01,  1.57437606e+00,\n",
              "        -7.69578406e-01, -9.82418871e-02, -6.27665798e-02,\n",
              "        -2.29164242e-01,  2.95733150e+00,  6.86765008e+00,\n",
              "         9.12975553e+00,  2.85460492e-01,  1.30391816e+00],\n",
              "       [-9.72062613e-02,  7.34343215e-01, -1.86298687e-01,\n",
              "        -7.69578406e-01, -9.82418871e-02, -6.27665798e-02,\n",
              "         8.40714825e-02,  7.70425949e-01,  1.15818210e+01,\n",
              "         4.38379383e+00, -2.06111085e-02,  1.30391816e+00],\n",
              "       [-7.82508626e-02,  2.79687478e+00,  6.28889942e+00,\n",
              "         6.83121167e-01, -9.82418871e-02, -6.27665798e-02,\n",
              "         1.38941569e-01,  8.74564309e-01, -2.57176426e-01,\n",
              "        -9.85033311e-02, -7.53359359e-02,  1.30391816e+00],\n",
              "       [-6.96347722e-02,  9.30864152e-02, -1.86298687e-01,\n",
              "         2.13582074e+00, -9.82418871e-02,  1.01822764e+01,\n",
              "         3.65166240e+00,  3.37388494e+00,  3.85665063e-01,\n",
              "         1.65161208e-01, -7.48516454e-02,  1.30391816e+00],\n",
              "       [-5.84338548e-02,  7.17194074e-01, -1.86298687e-01,\n",
              "         2.13582074e+00, -9.82418871e-02, -6.27665798e-02,\n",
              "         1.81891868e+00,  6.66287589e-01,  6.84407923e+00,\n",
              "         6.92490285e-01, -9.37389752e-02,  1.30391816e+00],\n",
              "       [ 1.48029129e-02, -2.02150736e-01,  9.61630224e-01,\n",
              "         1.40947095e+00, -9.82418871e-02, -6.27665798e-02,\n",
              "         2.63174137e+00,  5.56079049e+00,  1.54567266e+01,\n",
              "         1.15027364e+01, -1.39262283e-01,  1.30391816e+00],\n",
              "       [ 1.89709546e-01,  3.52328234e-01,  2.87743050e+00,\n",
              "        -7.69578406e-01, -9.82418871e-02, -6.27665798e-02,\n",
              "         1.01671322e-01,  1.60353283e+00,  5.09983599e+00,\n",
              "         5.96578106e+00, -1.83817010e-01,  1.30391816e+00],\n",
              "       [ 2.46575742e-01,  5.44392659e-01, -1.86298687e-01,\n",
              "         2.13582074e+00, -9.82418871e-02,  1.01822764e+01,\n",
              "         2.19398161e+00,  1.70767119e+00, -3.28603258e-01,\n",
              "        -3.62167870e-01, -1.71709747e-01, -7.66919299e-01],\n",
              "       [ 3.16366074e-01,  3.42185629e-01, -1.86298687e-01,\n",
              "         2.13582074e+00, -9.82418871e-02,  2.04273194e+01,\n",
              "         8.27652742e+00,  1.29111775e+00, -3.28603258e-01,\n",
              "        -3.62167870e-01, -2.67114977e-01,  1.30391816e+00],\n",
              "       [ 3.59446526e-01,  1.16186098e+00,  5.89462203e+00,\n",
              "         2.13582074e+00, -9.82418871e-02, -6.27665798e-02,\n",
              "         3.60337672e+00,  2.22836298e+00,  3.06702834e+00,\n",
              "         3.59280021e+00, -3.49928654e-01,  1.30391816e+00],\n",
              "       [ 5.24875460e-01, -3.22035935e-01,  1.28364894e+01,\n",
              "        -7.69578406e-01, -9.82418871e-02, -6.27665798e-02,\n",
              "        -5.75404842e-01,  7.70425949e-01, -3.28603258e-01,\n",
              "        -3.62167870e-01, -7.02007853e-01, -7.66919299e-01],\n",
              "       [ 5.69679129e-01,  5.66953454e+00,  3.17475443e+00,\n",
              "        -7.69578406e-01, -9.82418871e-02, -6.27665798e-02,\n",
              "        -1.15738456e-01,  1.70767119e+00,  7.42120803e+00,\n",
              "         6.49311014e+00, -7.78525753e-01,  1.30391816e+00],\n",
              "       [ 6.17067626e-01,  3.29384260e+00,  1.10641405e+00,\n",
              "         1.40947095e+00, -9.82418871e-02, -6.27665798e-02,\n",
              "         2.28479678e+00,  3.58216166e+00,  6.62051324e+00,\n",
              "         7.28410376e+00, -8.66666625e-01,  1.30391816e+00],\n",
              "       [ 7.29938409e-01, -6.45517563e-01, -1.86298687e-01,\n",
              "        -7.69578406e-01, -9.82418871e-02, -6.27665798e-02,\n",
              "         7.59804327e+00, -6.87511086e-01,  1.15671638e-01,\n",
              "         4.28825747e-01, -1.04779128e+00,  1.30391816e+00],\n",
              "       [ 7.41139327e-01, -7.08129278e-02, -1.86298687e-01,\n",
              "         1.40947095e+00, -9.82418871e-02,  5.05975491e+00,\n",
              "         2.89081100e+00,  1.08284103e+00, -3.28603258e-01,\n",
              "        -3.62167870e-01, -1.04730698e+00,  1.30391816e+00],\n",
              "       [ 7.84219778e-01, -7.01659167e-01, -1.86298687e-01,\n",
              "        -7.69578406e-01, -9.82418871e-02, -6.27665798e-02,\n",
              "        -5.89898827e-01,  1.81180955e+00,  1.74277487e+00,\n",
              "         7.28410376e+00, -1.12091914e+00, -7.66919299e-01],\n",
              "       [ 8.66934245e-01,  6.84037083e-01,  1.10641405e+00,\n",
              "        -7.69578406e-01,  1.34489756e+01, -6.27665798e-02,\n",
              "         2.87649857e-01,  3.68630002e+00,  2.99274444e+00,\n",
              "         5.96578106e+00, -4.41943850e-01,  1.30391816e+00],\n",
              "       [ 9.93590773e-01,  1.55172657e-01, -1.86298687e-01,\n",
              "         1.40947095e+00, -9.82418871e-02,  5.05975491e+00,\n",
              "         8.49892247e-01,  6.66287589e-01, -3.28603258e-01,\n",
              "        -3.62167870e-01, -7.67871362e-01, -7.66919299e-01],\n",
              "       [ 1.07027398e+00,  2.11815385e+00, -1.86298687e-01,\n",
              "        -7.69578406e-01, -9.82418871e-02, -6.27665798e-02,\n",
              "         3.73371426e-01,  4.83182197e+00,  8.86617285e+00,\n",
              "         1.36120527e+01, -8.94271184e-01,  1.30391816e+00],\n",
              "       [ 1.15988132e+00,  1.04668040e-01, -1.86298687e-01,\n",
              "        -7.69578406e-01, -9.82418871e-02,  2.04273194e+01,\n",
              "         2.77469348e+00, -4.79234367e-01, -3.28603258e-01,\n",
              "        -3.62167870e-01, -1.48413702e+00, -7.66919299e-01],\n",
              "       [ 1.26758244e+00,  4.52672543e-01, -1.86298687e-01,\n",
              "        -7.69578406e-01, -9.82418871e-02, -6.27665798e-02,\n",
              "         1.03037897e-01,  1.18697939e+00,  1.07661266e+01,\n",
              "         4.12012929e+00, -1.49043280e+00,  1.30391816e+00],\n",
              "       [ 1.37097553e+00,  8.58575245e-01,  4.60057682e-01,\n",
              "        -7.69578406e-01, -9.82418871e-02, -6.27665798e-02,\n",
              "         2.26972303e+00,  7.74769604e+00,  2.16830036e+01,\n",
              "         1.36120527e+01, -1.32964835e+00,  1.30391816e+00],\n",
              "       [ 1.38045323e+00, -4.56341101e-01, -1.86298687e-01,\n",
              "         1.40947095e+00, -9.82418871e-02, -6.27665798e-02,\n",
              "         2.75721787e+00,  5.87320557e+00,  9.70686666e+00,\n",
              "         1.17664009e+01, -1.35289429e+00,  1.30391816e+00],\n",
              "       [ 1.54760538e+00,  2.98732155e+00, -1.86298687e-01,\n",
              "        -7.69578406e-01,  6.67536684e+00, -6.27665798e-02,\n",
              "         2.66985575e-01,  2.02008626e+00,  3.24273835e+00,\n",
              "         3.32913567e+00, -3.17481190e-01,  1.30391816e+00],\n",
              "       [ 1.62945824e+00,  5.21676002e-01, -1.86298687e-01,\n",
              "         2.13582074e+00, -9.82418871e-02, -6.27665798e-02,\n",
              "         7.16479734e+00,  3.53872510e-01, -3.28603258e-01,\n",
              "        -3.62167870e-01, -1.21390292e+00,  1.30391816e+00]])"
            ]
          },
          "metadata": {},
          "execution_count": 32
        }
      ]
    },
    {
      "cell_type": "code",
      "source": [
        "x[labels==0]"
      ],
      "metadata": {
        "colab": {
          "base_uri": "https://localhost:8080/"
        },
        "id": "DPbCxQrW5YoO",
        "outputId": "04738625-4d9c-433d-e6fe-ef8188b60ff6"
      },
      "execution_count": null,
      "outputs": [
        {
          "output_type": "execute_result",
          "data": {
            "text/plain": [
              "array([[-1.73512503e+00, -4.51140783e-01, -1.86298687e-01, ...,\n",
              "        -3.62167870e-01,  1.39545434e+00, -7.66919299e-01],\n",
              "       [-1.73426342e+00, -5.39456874e-01, -1.86298687e-01, ...,\n",
              "        -3.62167870e-01,  1.37995704e+00, -7.66919299e-01],\n",
              "       [-1.73340181e+00, -3.20031232e-01, -1.86298687e-01, ...,\n",
              "        -3.62167870e-01,  1.41192021e+00, -7.66919299e-01],\n",
              "       ...,\n",
              "       [ 1.72682006e+00, -4.29480975e-05, -1.86298687e-01, ...,\n",
              "        -3.62167870e-01, -1.31560393e+00,  1.30391816e+00],\n",
              "       [ 1.72768167e+00, -1.85606976e-01, -1.86298687e-01, ...,\n",
              "        -9.85033311e-02, -1.31608822e+00, -7.66919299e-01],\n",
              "       [ 1.72854328e+00, -7.00507951e-01, -1.86298687e-01, ...,\n",
              "        -3.62167870e-01, -1.31754109e+00, -7.66919299e-01]])"
            ]
          },
          "metadata": {},
          "execution_count": 33
        }
      ]
    },
    {
      "cell_type": "code",
      "source": [
        "x[labels==1]"
      ],
      "metadata": {
        "colab": {
          "base_uri": "https://localhost:8080/"
        },
        "id": "ADL43Ud55Yks",
        "outputId": "977b17ca-87a1-4281-89d1-fa387a94a698"
      },
      "execution_count": null,
      "outputs": [
        {
          "output_type": "execute_result",
          "data": {
            "text/plain": [
              "array([[-1.56194162, -0.64440604, -0.18629869, -0.76957841, 13.44897558,\n",
              "        -0.06276658, -0.23802628,  0.45801087, -0.32860326, -0.36216787,\n",
              "         1.63081952,  1.30391816],\n",
              "       [-1.40340555,  0.93356304, -0.18629869, -0.76957841, 13.44897558,\n",
              "        -0.06276658, -0.05126093,  0.14559579, -0.32860326, -0.36216787,\n",
              "         1.39254859, -0.7669193 ],\n",
              "       [-0.91659645, -0.28559401, -0.18629869, -0.76957841, 13.44897558,\n",
              "        -0.06276658,  0.16407828,  0.77042595,  1.09993338,  0.69249029,\n",
              "         0.87048343,  1.30391816],\n",
              "       [-0.63054225, -0.57062901, -0.18629869, -0.76957841, 13.44897558,\n",
              "        -0.06276658, -0.26196206,  0.14559579, -0.32860326, -0.36216787,\n",
              "         0.63366537, -0.7669193 ],\n",
              "       [-0.17819751, -0.40780149, -0.18629869, -0.76957841, 13.44897558,\n",
              "        -0.06276658, -0.10671077,  0.14559579, -0.32860326, -0.36216787,\n",
              "         0.10772588, -0.7669193 ],\n",
              "       [-0.06877316, -0.21299796, -0.18629869, -0.76957841, 13.44897558,\n",
              "        -0.06276658, -0.03440649,  0.24973415, -0.15003618, -0.09850333,\n",
              "        -0.07436735, -0.7669193 ],\n",
              "       [ 0.0423744 , -0.68927368, -0.18629869, -0.76957841, 13.44897558,\n",
              "        -0.06276658, -0.15077249,  0.66628759, -0.32860326, -0.36216787,\n",
              "         0.23654715,  1.30391816],\n",
              "       [ 0.14490588,  0.26827958, -0.18629869, -0.76957841, 13.44897558,\n",
              "        -0.06276658,  2.17509802,  1.70767119,  0.77136996,  2.8018066 ,\n",
              "         0.03605088,  1.30391816],\n",
              "       [ 0.2422677 , -0.43101436, -0.18629869, -0.76957841, 13.44897558,\n",
              "        -0.06276658, -0.07349884,  0.14559579, -0.32860326, -0.36216787,\n",
              "        -0.12860789, -0.7669193 ],\n",
              "       [ 0.84884046, -0.50411654, -0.18629869, -0.76957841, 13.44897558,\n",
              "        -0.06276658,  0.3805356 ,  1.60353283,  0.95707972,  1.21981936,\n",
              "        -0.39932629,  1.30391816],\n",
              "       [ 1.04270249, -0.08611615, -0.18629869, -0.76957841, 13.44897558,\n",
              "        -0.06276658, -0.09002198,  0.14559579, -0.32860326, -0.36216787,\n",
              "        -1.0313254 , -0.7669193 ],\n",
              "       [ 1.18486798, -0.50022623, -0.18629869, -0.76957841, 13.44897558,\n",
              "        -0.06276658, -0.2715695 ,  0.14559579, -0.22146301, -0.09850333,\n",
              "        -1.1485237 , -0.7669193 ],\n",
              "       [ 1.39510058, -0.36026423, -0.18629869, -0.76957841, 13.44897558,\n",
              "        -0.06276658,  0.27394269,  0.77042595, -0.32860326, -0.36216787,\n",
              "        -1.66719883, -0.7669193 ],\n",
              "       [ 1.5398509 , -0.37465442, -0.18629869, -0.76957841, 13.44897558,\n",
              "        -0.06276658,  0.02543296,  0.66628759, -0.32860326, -0.36216787,\n",
              "        -0.32910416, -0.7669193 ]])"
            ]
          },
          "metadata": {},
          "execution_count": 34
        }
      ]
    },
    {
      "cell_type": "code",
      "source": [
        "x[labels==2]"
      ],
      "metadata": {
        "colab": {
          "base_uri": "https://localhost:8080/"
        },
        "id": "ZkkcKzpl5YjN",
        "outputId": "0e09fa28-4d56-45dd-fe5e-04749ead3c11"
      },
      "execution_count": null,
      "outputs": [
        {
          "output_type": "execute_result",
          "data": {
            "text/plain": [
              "array([[-1.53781656,  0.43396529, -0.18629869, -0.76957841,  6.67536684,\n",
              "        -0.06276658, -0.44297123, -0.06268093, -0.32860326, -0.36216787,\n",
              "         1.59691919,  1.30391816],\n",
              "       [-1.39306624, -0.61939688, -0.18629869, -0.76957841,  6.67536684,\n",
              "        -0.06276658, -0.33546727,  0.87456431, -0.32860326, -0.36216787,\n",
              "         2.02309483,  1.30391816],\n",
              "       [-1.04325298, -0.17855082, -0.18629869, -0.76957841,  6.67536684,\n",
              "        -0.06276658, -0.49900083,  0.14559579, -0.32860326, -0.36216787,\n",
              "         0.98429169, -0.7669193 ],\n",
              "       [-0.73565855,  0.11169442, -0.18629869, -0.76957841,  6.67536684,\n",
              "        -0.06276658, -0.42450175,  0.14559579, -0.32860326, -0.36216787,\n",
              "         0.69178023, -0.7669193 ],\n",
              "       [-0.53231882, -0.55027433, -0.18629869, -0.76957841,  6.67536684,\n",
              "        -0.06276658, -0.38913643,  0.45801087, -0.32860326, -0.36216787,\n",
              "         0.57700338,  1.30391816],\n",
              "       [-0.52714917, -0.24271123, -0.18629869, -0.76957841,  6.67536684,\n",
              "        -0.06276658, -0.18178962,  1.08284103,  1.42135413,  1.4834839 ,\n",
              "         0.58329915, -0.7669193 ],\n",
              "       [-0.40738551, -0.49260439, -0.18629869, -0.76957841,  6.67536684,\n",
              "        -0.06276658, -0.40735744,  0.45801087,  0.06424432,  0.42882575,\n",
              "         0.42832619, -0.7669193 ],\n",
              "       [-0.39532299, -0.36436295, -0.18629869, -0.76957841,  6.67536684,\n",
              "        -0.06276658, -0.33530163, -0.06268093, -0.32860326, -0.36216787,\n",
              "         0.40314309, -0.7669193 ],\n",
              "       [-0.01879984, -0.61173534, -0.18629869, -0.76957841,  6.67536684,\n",
              "        -0.06276658, -0.21467026, -0.16681929, -0.32860326, -0.36216787,\n",
              "         0.25543448, -0.7669193 ],\n",
              "       [ 0.00704843,  0.28085363, -0.18629869, -0.76957841,  6.67536684,\n",
              "        -0.06276658,  0.03118914,  1.08284103, -0.25717643, -0.09850333,\n",
              "         0.1522806 , -0.7669193 ],\n",
              "       [ 0.27587045, -0.62665152, -0.18629869, -0.76957841,  6.67536684,\n",
              "        -0.06276658, -0.27691157,  0.04145743, -0.32860326, -0.36216787,\n",
              "        -0.19011279, -0.7669193 ],\n",
              "       [ 0.3663394 , -0.32292912, -0.18629869, -0.76957841,  6.67536684,\n",
              "        -0.06276658, -0.36731263, -0.06268093, -0.32860326, -0.36216787,\n",
              "        -0.36930027, -0.7669193 ],\n",
              "       [ 0.48351823, -0.30403331, -0.18629869, -0.76957841,  6.67536684,\n",
              "        -0.06276658, -0.38971619, -0.58337273, -0.32860326, -0.36216787,\n",
              "        -0.61919418,  1.30391816],\n",
              "       [ 0.58518809, -0.13792085, -0.18629869,  1.40947095,  6.67536684,\n",
              "        -0.06276658,  1.66718736,  0.24973415, -0.32860326, -0.36216787,\n",
              "        -0.81291038, -0.7669193 ],\n",
              "       [ 0.64463912, -0.30399361, -0.18629869, -0.76957841,  6.67536684,\n",
              "        -0.06276658, -0.38329742,  0.24973415, -0.32860326, -0.36216787,\n",
              "        -0.90201983, -0.7669193 ],\n",
              "       [ 0.78680461, -0.55409517, -0.18629869, -0.76957841,  6.67536684,\n",
              "        -0.06276658, -0.49610204, -0.16681929, -0.32860326, -0.36216787,\n",
              "        -1.11946627, -0.7669193 ],\n",
              "       [ 0.83936276, -0.64896129, -0.18629869, -0.76957841,  6.67536684,\n",
              "        -0.06276658, -0.33223718,  0.45801087, -0.32860326, -0.36216787,\n",
              "        -0.39060906,  1.30391816],\n",
              "       [ 1.00134525, -0.51472559, -0.18629869, -0.76957841,  6.67536684,\n",
              "        -0.06276658, -0.43369508, -0.16681929, -0.32860326, -0.36216787,\n",
              "        -0.76254417, -0.7669193 ],\n",
              "       [ 1.03236318, -0.16848761, -0.18629869, -0.76957841,  6.67536684,\n",
              "        -0.06276658, -0.20017627,  0.24973415, -0.32860326, -0.36216787,\n",
              "        -0.78821156, -0.7669193 ],\n",
              "       [ 1.17797511, -0.52879821, -0.18629869, -0.76957841,  6.67536684,\n",
              "        -0.06276658, -0.42052626,  0.14559579, -0.32860326, -0.36216787,\n",
              "        -1.04730698, -0.7669193 ],\n",
              "       [ 1.28826106, -0.35041935, -0.18629869, -0.76957841,  6.67536684,\n",
              "        -0.06276658, -0.19288787,  0.14559579, -0.15003618,  0.16516121,\n",
              "        -1.73742096, -0.7669193 ],\n",
              "       [ 1.52520355,  0.00922632, -0.18629869, -0.76957841,  6.67536684,\n",
              "        -0.06276658, -0.25802798,  0.56214923,  0.20709798,  0.42882575,\n",
              "        -0.32087122,  1.30391816],\n",
              "       [ 1.58982422, -0.64955674, -0.18629869, -0.76957841,  6.67536684,\n",
              "        -0.06276658, -0.1246419 ,  3.06146986,  0.0285309 ,  0.16516121,\n",
              "        -1.18290833,  1.30391816],\n",
              "       [ 1.60188675, -0.61187428, -0.18629869, -0.76957841,  6.67536684,\n",
              "        -0.06276658, -0.37460103,  0.24973415,  0.38566506,  0.16516121,\n",
              "        -1.19259414,  1.30391816],\n",
              "       [ 1.69494052, -0.59207536, -0.18629869, -0.76957841,  6.67536684,\n",
              "        -0.06276658, -0.46889476,  0.04145743, -0.32860326, -0.36216787,\n",
              "        -1.28848366, -0.7669193 ]])"
            ]
          },
          "metadata": {},
          "execution_count": 35
        }
      ]
    },
    {
      "cell_type": "code",
      "source": [
        "plt.scatter(x[labels==-1,0],x[labels==-1,1],color='blue')\n",
        "plt.scatter(x[labels==0,0],x[labels==0,1],color='green')\n",
        "plt.scatter(x[labels==1,0],x[labels==1,1],color='red')\n",
        "plt.scatter(x[labels==2,0],x[labels==2,1],color='yellow')\n",
        "plt.scatter(x[labels==3,0],x[labels==3,1],color='brown')\n",
        "plt.scatter(x[labels==4,0],x[labels==4,1],color='orange')\n",
        "plt.scatter(x[labels==5,0],x[labels==5,1],color='black')"
      ],
      "metadata": {
        "colab": {
          "base_uri": "https://localhost:8080/",
          "height": 448
        },
        "id": "Vaj09-Yk5YhM",
        "outputId": "868bd097-c5b1-4e8f-8e5c-563ece8aad27"
      },
      "execution_count": null,
      "outputs": [
        {
          "output_type": "execute_result",
          "data": {
            "text/plain": [
              "<matplotlib.collections.PathCollection at 0x7bb430edf5e0>"
            ]
          },
          "metadata": {},
          "execution_count": 36
        },
        {
          "output_type": "display_data",
          "data": {
            "text/plain": [
              "<Figure size 640x480 with 1 Axes>"
            ],
            "image/png": "[encoded data removed]"
          },
          "metadata": {}
        }
      ]
    },
    {
      "cell_type": "markdown",
      "source": [
        "# **CONCLUSION**"
      ],
      "metadata": {
        "id": "5FlfJ3oW8PFK"
      }
    },
    {
      "cell_type": "markdown",
      "source": [
        "From the above data generated from K-Means clustering, we can see Cluster-1 has around 63% total travelers and cluster 2 has 33% of the travelers. We will target cluster 1 & 2. Cluster 1 contains less frequent or first time travellers, by giving them discount provided they travel more than twice or thrice and introduce more offer if they register or take the membership."
      ],
      "metadata": {
        "id": "0S3Qh82U8M2o"
      }
    }
  ]
}